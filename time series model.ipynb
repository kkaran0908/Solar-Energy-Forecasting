{
 "cells": [
  {
   "cell_type": "code",
   "execution_count": 1,
   "metadata": {},
   "outputs": [],
   "source": [
    "import pandas as pd\n",
    "import matplotlib.pyplot as plt\n",
    "import numpy as np\n",
    "#df = pd.read_excel('data.xls', sheetname='dayReport')"
   ]
  },
  {
   "cell_type": "code",
   "execution_count": 2,
   "metadata": {},
   "outputs": [],
   "source": [
    "j = pd.read_csv('JULY_B_2018.csv')\n",
    "a = pd.read_csv('AUG_B_2018.csv')\n",
    "s = pd.read_csv('SEP_B_2018.csv')\n",
    "o = pd.read_csv('OCT_B_2018.csv')\n",
    "n = pd.read_csv('NOV_B_2018.csv')\n",
    "d = pd.read_csv('DEC_B_2018.csv')\n",
    "jan = pd.read_csv('JAN_B_2019.csv')\n",
    "fab = pd.read_csv('FAB_B_2019.csv')\n",
    "m = pd.read_csv('MAR_B_2018.csv')\n",
    "ma = pd.read_csv('APR_B_2018.csv')\n",
    "my = pd.read_csv('MAY_B_2018.csv')\n",
    "ju = pd.read_csv('JUNE_B_2018.csv')\n",
    "mar2019 = pd.read_csv('MAR_B_2019.csv')"
   ]
  },
  {
   "cell_type": "code",
   "execution_count": 3,
   "metadata": {},
   "outputs": [
    {
     "data": {
      "text/plain": [
       "'\"# data from  March 2018 to fab 2019\\nmar = m.drop([\\'Date\\'],axis=1).T\\napr = ma.drop([\\'Date\\'],axis=1).T\\nmay = my.drop([\\'Date\\'],axis=1).T\\njun = ju.drop([\\'Date\\'],axis=1).T\\njul = j.drop([\\'Date\\'],axis=1).T#july\\naug = a.drop([\\'Date\\'],axis=1).T#august\\nsep = s.drop([\\'Date\\'],axis=1).T#september\\noc = o.drop([\\'Date\\'],axis=1).T#October\\nnov = n.drop([\\'Date\\'],axis=1).T #November\\ndec = d.drop([\\'Date\\'],axis=1).T #December\\njan = jan.drop([\\'Date\\'],axis=1).T \\nfab = fab.drop([\\'Date\\'],axis=1).T'"
      ]
     },
     "execution_count": 3,
     "metadata": {},
     "output_type": "execute_result"
    }
   ],
   "source": [
    "\"\"\"\"# data from  March 2018 to fab 2019\n",
    "mar = m.drop(['Date'],axis=1).T\n",
    "apr = ma.drop(['Date'],axis=1).T\n",
    "may = my.drop(['Date'],axis=1).T\n",
    "jun = ju.drop(['Date'],axis=1).T\n",
    "jul = j.drop(['Date'],axis=1).T#july\n",
    "aug = a.drop(['Date'],axis=1).T#august\n",
    "sep = s.drop(['Date'],axis=1).T#september\n",
    "oc = o.drop(['Date'],axis=1).T#October\n",
    "nov = n.drop(['Date'],axis=1).T #November\n",
    "dec = d.drop(['Date'],axis=1).T #December\n",
    "jan = jan.drop(['Date'],axis=1).T \n",
    "fab = fab.drop(['Date'],axis=1).T\"\"\""
   ]
  },
  {
   "cell_type": "code",
   "execution_count": 4,
   "metadata": {},
   "outputs": [],
   "source": [
    "f3 = m#.iloc[21:55]\n",
    "f4 = ma#.iloc[21:55] # july data\n",
    "f5 = my#.iloc[21:55] # august data\n",
    "f6 = ju#.iloc[21:55] # september data\n",
    "f7 = j#.#iloc[21:55] # October data\n",
    "f8 = a#.iloc[21:55] # november data\n",
    "f9 = s#.iloc[21:55] # december data\n",
    "f10 = o#.iloc[21:55] # january data\n",
    "f11 = n#.iloc[21:55] # february data\n",
    "f12 = d#.iloc[21:55]    # march data\n",
    "f1 = jan#.iloc[21:55] # january data\n",
    "f2 = fab#.iloc[21:55] #february\n",
    "fx = mar2019"
   ]
  },
  {
   "cell_type": "code",
   "execution_count": 5,
   "metadata": {},
   "outputs": [
    {
     "data": {
      "text/html": [
       "<div>\n",
       "<style scoped>\n",
       "    .dataframe tbody tr th:only-of-type {\n",
       "        vertical-align: middle;\n",
       "    }\n",
       "\n",
       "    .dataframe tbody tr th {\n",
       "        vertical-align: top;\n",
       "    }\n",
       "\n",
       "    .dataframe thead th {\n",
       "        text-align: right;\n",
       "    }\n",
       "</style>\n",
       "<table border=\"1\" class=\"dataframe\">\n",
       "  <thead>\n",
       "    <tr style=\"text-align: right;\">\n",
       "      <th></th>\n",
       "      <th>Unnamed: 0</th>\n",
       "      <th>00:00</th>\n",
       "      <th>00:20</th>\n",
       "      <th>00:40</th>\n",
       "      <th>01:00</th>\n",
       "      <th>01:20</th>\n",
       "      <th>01:40</th>\n",
       "      <th>02:00</th>\n",
       "      <th>02:20</th>\n",
       "      <th>02:40</th>\n",
       "      <th>...</th>\n",
       "      <th>20:40</th>\n",
       "      <th>21:00</th>\n",
       "      <th>21:20</th>\n",
       "      <th>21:40</th>\n",
       "      <th>22:00</th>\n",
       "      <th>22:20</th>\n",
       "      <th>22:40</th>\n",
       "      <th>23:00</th>\n",
       "      <th>23:20</th>\n",
       "      <th>Date</th>\n",
       "    </tr>\n",
       "  </thead>\n",
       "  <tbody>\n",
       "    <tr>\n",
       "      <th>0</th>\n",
       "      <td>0.0</td>\n",
       "      <td>0.0</td>\n",
       "      <td>0.0</td>\n",
       "      <td>0.0</td>\n",
       "      <td>0.0</td>\n",
       "      <td>0.0</td>\n",
       "      <td>0.0</td>\n",
       "      <td>0.0</td>\n",
       "      <td>0.0</td>\n",
       "      <td>0.0</td>\n",
       "      <td>...</td>\n",
       "      <td>0.0</td>\n",
       "      <td>0.0</td>\n",
       "      <td>0.0</td>\n",
       "      <td>0.0</td>\n",
       "      <td>0.0</td>\n",
       "      <td>0.0</td>\n",
       "      <td>0.0</td>\n",
       "      <td>0.0</td>\n",
       "      <td>0.0</td>\n",
       "      <td>2018-03-01 00:00:00</td>\n",
       "    </tr>\n",
       "    <tr>\n",
       "      <th>1</th>\n",
       "      <td>0.0</td>\n",
       "      <td>0.0</td>\n",
       "      <td>0.0</td>\n",
       "      <td>0.0</td>\n",
       "      <td>0.0</td>\n",
       "      <td>0.0</td>\n",
       "      <td>0.0</td>\n",
       "      <td>0.0</td>\n",
       "      <td>0.0</td>\n",
       "      <td>0.0</td>\n",
       "      <td>...</td>\n",
       "      <td>0.0</td>\n",
       "      <td>0.0</td>\n",
       "      <td>0.0</td>\n",
       "      <td>0.0</td>\n",
       "      <td>0.0</td>\n",
       "      <td>0.0</td>\n",
       "      <td>0.0</td>\n",
       "      <td>0.0</td>\n",
       "      <td>0.0</td>\n",
       "      <td>2018-03-02 00:00:00</td>\n",
       "    </tr>\n",
       "    <tr>\n",
       "      <th>2</th>\n",
       "      <td>0.0</td>\n",
       "      <td>0.0</td>\n",
       "      <td>0.0</td>\n",
       "      <td>0.0</td>\n",
       "      <td>0.0</td>\n",
       "      <td>0.0</td>\n",
       "      <td>0.0</td>\n",
       "      <td>0.0</td>\n",
       "      <td>0.0</td>\n",
       "      <td>0.0</td>\n",
       "      <td>...</td>\n",
       "      <td>0.0</td>\n",
       "      <td>0.0</td>\n",
       "      <td>0.0</td>\n",
       "      <td>0.0</td>\n",
       "      <td>0.0</td>\n",
       "      <td>0.0</td>\n",
       "      <td>0.0</td>\n",
       "      <td>0.0</td>\n",
       "      <td>0.0</td>\n",
       "      <td>2018-03-03 00:00:00</td>\n",
       "    </tr>\n",
       "    <tr>\n",
       "      <th>3</th>\n",
       "      <td>0.0</td>\n",
       "      <td>0.0</td>\n",
       "      <td>0.0</td>\n",
       "      <td>0.0</td>\n",
       "      <td>0.0</td>\n",
       "      <td>0.0</td>\n",
       "      <td>0.0</td>\n",
       "      <td>0.0</td>\n",
       "      <td>0.0</td>\n",
       "      <td>0.0</td>\n",
       "      <td>...</td>\n",
       "      <td>0.0</td>\n",
       "      <td>0.0</td>\n",
       "      <td>0.0</td>\n",
       "      <td>0.0</td>\n",
       "      <td>0.0</td>\n",
       "      <td>0.0</td>\n",
       "      <td>0.0</td>\n",
       "      <td>0.0</td>\n",
       "      <td>0.0</td>\n",
       "      <td>2018-03-04 00:00:00</td>\n",
       "    </tr>\n",
       "    <tr>\n",
       "      <th>4</th>\n",
       "      <td>0.0</td>\n",
       "      <td>0.0</td>\n",
       "      <td>0.0</td>\n",
       "      <td>0.0</td>\n",
       "      <td>0.0</td>\n",
       "      <td>0.0</td>\n",
       "      <td>0.0</td>\n",
       "      <td>0.0</td>\n",
       "      <td>0.0</td>\n",
       "      <td>0.0</td>\n",
       "      <td>...</td>\n",
       "      <td>0.0</td>\n",
       "      <td>0.0</td>\n",
       "      <td>0.0</td>\n",
       "      <td>0.0</td>\n",
       "      <td>0.0</td>\n",
       "      <td>0.0</td>\n",
       "      <td>0.0</td>\n",
       "      <td>0.0</td>\n",
       "      <td>0.0</td>\n",
       "      <td>2018-03-05 00:00:00</td>\n",
       "    </tr>\n",
       "  </tbody>\n",
       "</table>\n",
       "<p>5 rows × 73 columns</p>\n",
       "</div>"
      ],
      "text/plain": [
       "   Unnamed: 0  00:00  00:20  00:40  01:00  01:20  01:40  02:00  02:20  02:40  \\\n",
       "0         0.0    0.0    0.0    0.0    0.0    0.0    0.0    0.0    0.0    0.0   \n",
       "1         0.0    0.0    0.0    0.0    0.0    0.0    0.0    0.0    0.0    0.0   \n",
       "2         0.0    0.0    0.0    0.0    0.0    0.0    0.0    0.0    0.0    0.0   \n",
       "3         0.0    0.0    0.0    0.0    0.0    0.0    0.0    0.0    0.0    0.0   \n",
       "4         0.0    0.0    0.0    0.0    0.0    0.0    0.0    0.0    0.0    0.0   \n",
       "\n",
       "   ...  20:40  21:00  21:20  21:40  22:00  22:20  22:40  23:00  23:20  \\\n",
       "0  ...    0.0    0.0    0.0    0.0    0.0    0.0    0.0    0.0    0.0   \n",
       "1  ...    0.0    0.0    0.0    0.0    0.0    0.0    0.0    0.0    0.0   \n",
       "2  ...    0.0    0.0    0.0    0.0    0.0    0.0    0.0    0.0    0.0   \n",
       "3  ...    0.0    0.0    0.0    0.0    0.0    0.0    0.0    0.0    0.0   \n",
       "4  ...    0.0    0.0    0.0    0.0    0.0    0.0    0.0    0.0    0.0   \n",
       "\n",
       "                  Date  \n",
       "0  2018-03-01 00:00:00  \n",
       "1  2018-03-02 00:00:00  \n",
       "2  2018-03-03 00:00:00  \n",
       "3  2018-03-04 00:00:00  \n",
       "4  2018-03-05 00:00:00  \n",
       "\n",
       "[5 rows x 73 columns]"
      ]
     },
     "execution_count": 5,
     "metadata": {},
     "output_type": "execute_result"
    }
   ],
   "source": [
    "f3.head()"
   ]
  },
  {
   "cell_type": "code",
   "execution_count": 6,
   "metadata": {},
   "outputs": [],
   "source": [
    "f3.index = pd.to_datetime(f3['Date'])\n",
    "f4.index = pd.to_datetime(f4['Date'])\n",
    "f5.index = pd.to_datetime(f5['Date'])\n",
    "f6.index = pd.to_datetime(f6['Date'])\n",
    "f7.index = pd.to_datetime(f7['Date'])\n",
    "f8.index = pd.to_datetime(f8['Date'])\n",
    "f9.index = pd.to_datetime(f9['Date'])\n",
    "f10.index = pd.to_datetime(f10['Date'])\n",
    "f11.index = pd.to_datetime(f11['Date'])\n",
    "f12.index = pd.to_datetime(f12['Date'])\n",
    "f1.index = pd.to_datetime(f1['Date'])\n",
    "f2.index = pd.to_datetime(f2['Date'])\n",
    "fx.index = pd.to_datetime(fx['Date'])"
   ]
  },
  {
   "cell_type": "code",
   "execution_count": 7,
   "metadata": {},
   "outputs": [
    {
     "data": {
      "text/html": [
       "<div>\n",
       "<style scoped>\n",
       "    .dataframe tbody tr th:only-of-type {\n",
       "        vertical-align: middle;\n",
       "    }\n",
       "\n",
       "    .dataframe tbody tr th {\n",
       "        vertical-align: top;\n",
       "    }\n",
       "\n",
       "    .dataframe thead th {\n",
       "        text-align: right;\n",
       "    }\n",
       "</style>\n",
       "<table border=\"1\" class=\"dataframe\">\n",
       "  <thead>\n",
       "    <tr style=\"text-align: right;\">\n",
       "      <th></th>\n",
       "      <th>Unnamed: 0</th>\n",
       "      <th>00:00</th>\n",
       "      <th>00:20</th>\n",
       "      <th>00:40</th>\n",
       "      <th>01:00</th>\n",
       "      <th>01:20</th>\n",
       "      <th>01:40</th>\n",
       "      <th>02:00</th>\n",
       "      <th>02:20</th>\n",
       "      <th>02:40</th>\n",
       "      <th>...</th>\n",
       "      <th>20:40</th>\n",
       "      <th>21:00</th>\n",
       "      <th>21:20</th>\n",
       "      <th>21:40</th>\n",
       "      <th>22:00</th>\n",
       "      <th>22:20</th>\n",
       "      <th>22:40</th>\n",
       "      <th>23:00</th>\n",
       "      <th>23:20</th>\n",
       "      <th>Date</th>\n",
       "    </tr>\n",
       "    <tr>\n",
       "      <th>Date</th>\n",
       "      <th></th>\n",
       "      <th></th>\n",
       "      <th></th>\n",
       "      <th></th>\n",
       "      <th></th>\n",
       "      <th></th>\n",
       "      <th></th>\n",
       "      <th></th>\n",
       "      <th></th>\n",
       "      <th></th>\n",
       "      <th></th>\n",
       "      <th></th>\n",
       "      <th></th>\n",
       "      <th></th>\n",
       "      <th></th>\n",
       "      <th></th>\n",
       "      <th></th>\n",
       "      <th></th>\n",
       "      <th></th>\n",
       "      <th></th>\n",
       "      <th></th>\n",
       "    </tr>\n",
       "  </thead>\n",
       "  <tbody>\n",
       "    <tr>\n",
       "      <th>2019-03-01</th>\n",
       "      <td>0.0</td>\n",
       "      <td>0.0</td>\n",
       "      <td>0.0</td>\n",
       "      <td>0.0</td>\n",
       "      <td>0.0</td>\n",
       "      <td>0.0</td>\n",
       "      <td>0.0</td>\n",
       "      <td>0.0</td>\n",
       "      <td>0.0</td>\n",
       "      <td>0.0</td>\n",
       "      <td>...</td>\n",
       "      <td>0.0</td>\n",
       "      <td>0.0</td>\n",
       "      <td>0.0</td>\n",
       "      <td>0.0</td>\n",
       "      <td>0.0</td>\n",
       "      <td>0.0</td>\n",
       "      <td>0.0</td>\n",
       "      <td>0.0</td>\n",
       "      <td>0.0</td>\n",
       "      <td>2019-03-01 00:00:00</td>\n",
       "    </tr>\n",
       "    <tr>\n",
       "      <th>2019-03-02</th>\n",
       "      <td>0.0</td>\n",
       "      <td>0.0</td>\n",
       "      <td>0.0</td>\n",
       "      <td>0.0</td>\n",
       "      <td>0.0</td>\n",
       "      <td>0.0</td>\n",
       "      <td>0.0</td>\n",
       "      <td>0.0</td>\n",
       "      <td>0.0</td>\n",
       "      <td>0.0</td>\n",
       "      <td>...</td>\n",
       "      <td>0.0</td>\n",
       "      <td>0.0</td>\n",
       "      <td>0.0</td>\n",
       "      <td>0.0</td>\n",
       "      <td>0.0</td>\n",
       "      <td>0.0</td>\n",
       "      <td>0.0</td>\n",
       "      <td>0.0</td>\n",
       "      <td>0.0</td>\n",
       "      <td>2019-03-02 00:00:00</td>\n",
       "    </tr>\n",
       "    <tr>\n",
       "      <th>2019-03-03</th>\n",
       "      <td>0.0</td>\n",
       "      <td>0.0</td>\n",
       "      <td>0.0</td>\n",
       "      <td>0.0</td>\n",
       "      <td>0.0</td>\n",
       "      <td>0.0</td>\n",
       "      <td>0.0</td>\n",
       "      <td>0.0</td>\n",
       "      <td>0.0</td>\n",
       "      <td>0.0</td>\n",
       "      <td>...</td>\n",
       "      <td>0.0</td>\n",
       "      <td>0.0</td>\n",
       "      <td>0.0</td>\n",
       "      <td>0.0</td>\n",
       "      <td>0.0</td>\n",
       "      <td>0.0</td>\n",
       "      <td>0.0</td>\n",
       "      <td>0.0</td>\n",
       "      <td>0.0</td>\n",
       "      <td>2019-03-03 00:00:00</td>\n",
       "    </tr>\n",
       "    <tr>\n",
       "      <th>2019-03-04</th>\n",
       "      <td>0.0</td>\n",
       "      <td>0.0</td>\n",
       "      <td>0.0</td>\n",
       "      <td>0.0</td>\n",
       "      <td>0.0</td>\n",
       "      <td>0.0</td>\n",
       "      <td>0.0</td>\n",
       "      <td>0.0</td>\n",
       "      <td>0.0</td>\n",
       "      <td>0.0</td>\n",
       "      <td>...</td>\n",
       "      <td>0.0</td>\n",
       "      <td>0.0</td>\n",
       "      <td>0.0</td>\n",
       "      <td>0.0</td>\n",
       "      <td>0.0</td>\n",
       "      <td>0.0</td>\n",
       "      <td>0.0</td>\n",
       "      <td>0.0</td>\n",
       "      <td>0.0</td>\n",
       "      <td>2019-03-04 00:00:00</td>\n",
       "    </tr>\n",
       "    <tr>\n",
       "      <th>2019-03-05</th>\n",
       "      <td>0.0</td>\n",
       "      <td>0.0</td>\n",
       "      <td>0.0</td>\n",
       "      <td>0.0</td>\n",
       "      <td>0.0</td>\n",
       "      <td>0.0</td>\n",
       "      <td>0.0</td>\n",
       "      <td>0.0</td>\n",
       "      <td>0.0</td>\n",
       "      <td>0.0</td>\n",
       "      <td>...</td>\n",
       "      <td>0.0</td>\n",
       "      <td>0.0</td>\n",
       "      <td>0.0</td>\n",
       "      <td>0.0</td>\n",
       "      <td>0.0</td>\n",
       "      <td>0.0</td>\n",
       "      <td>0.0</td>\n",
       "      <td>0.0</td>\n",
       "      <td>0.0</td>\n",
       "      <td>2019-03-05 00:00:00</td>\n",
       "    </tr>\n",
       "  </tbody>\n",
       "</table>\n",
       "<p>5 rows × 73 columns</p>\n",
       "</div>"
      ],
      "text/plain": [
       "            Unnamed: 0  00:00  00:20  00:40  01:00  01:20  01:40  02:00  \\\n",
       "Date                                                                      \n",
       "2019-03-01         0.0    0.0    0.0    0.0    0.0    0.0    0.0    0.0   \n",
       "2019-03-02         0.0    0.0    0.0    0.0    0.0    0.0    0.0    0.0   \n",
       "2019-03-03         0.0    0.0    0.0    0.0    0.0    0.0    0.0    0.0   \n",
       "2019-03-04         0.0    0.0    0.0    0.0    0.0    0.0    0.0    0.0   \n",
       "2019-03-05         0.0    0.0    0.0    0.0    0.0    0.0    0.0    0.0   \n",
       "\n",
       "            02:20  02:40  ...  20:40  21:00  21:20  21:40  22:00  22:20  \\\n",
       "Date                      ...                                             \n",
       "2019-03-01    0.0    0.0  ...    0.0    0.0    0.0    0.0    0.0    0.0   \n",
       "2019-03-02    0.0    0.0  ...    0.0    0.0    0.0    0.0    0.0    0.0   \n",
       "2019-03-03    0.0    0.0  ...    0.0    0.0    0.0    0.0    0.0    0.0   \n",
       "2019-03-04    0.0    0.0  ...    0.0    0.0    0.0    0.0    0.0    0.0   \n",
       "2019-03-05    0.0    0.0  ...    0.0    0.0    0.0    0.0    0.0    0.0   \n",
       "\n",
       "            22:40  23:00  23:20                 Date  \n",
       "Date                                                  \n",
       "2019-03-01    0.0    0.0    0.0  2019-03-01 00:00:00  \n",
       "2019-03-02    0.0    0.0    0.0  2019-03-02 00:00:00  \n",
       "2019-03-03    0.0    0.0    0.0  2019-03-03 00:00:00  \n",
       "2019-03-04    0.0    0.0    0.0  2019-03-04 00:00:00  \n",
       "2019-03-05    0.0    0.0    0.0  2019-03-05 00:00:00  \n",
       "\n",
       "[5 rows x 73 columns]"
      ]
     },
     "execution_count": 7,
     "metadata": {},
     "output_type": "execute_result"
    }
   ],
   "source": [
    "fx.head()"
   ]
  },
  {
   "cell_type": "code",
   "execution_count": 8,
   "metadata": {},
   "outputs": [],
   "source": [
    "# data from  March 2018 to fab 2019\n",
    "f1 = f1.drop(['Date','Unnamed: 0'],axis=1).T\n",
    "f2 = f2.drop(['Date','Unnamed: 0'],axis=1).T\n",
    "f3 = f3.drop(['Date','Unnamed: 0'],axis=1).T\n",
    "f4 = f4.drop(['Date','Unnamed: 0'],axis=1).T\n",
    "f5 = f5.drop(['Date','Unnamed: 0'],axis=1).T#july\n",
    "f6 = f6.drop(['Date','Unnamed: 0'],axis=1).T#august\n",
    "f7 = f7.drop(['Date','Unnamed: 0'],axis=1).T#september\n",
    "f8 = f8.drop(['Date','Unnamed: 0'],axis=1).T#October\n",
    "f9 = f9.drop(['Date','Unnamed: 0'],axis=1).T #November\n",
    "f10 = f10.drop(['Date','Unnamed: 0'],axis=1).T #December\n",
    "f11 = f11.drop(['Date','Unnamed: 0'],axis=1).T \n",
    "f12 = f12.drop(['Date','Unnamed: 0'],axis=1).T\n",
    "fx = fx.drop(['Date','Unnamed: 0'],axis=1).T"
   ]
  },
  {
   "cell_type": "code",
   "execution_count": 9,
   "metadata": {},
   "outputs": [
    {
     "data": {
      "text/plain": [
       "(71, 29)"
      ]
     },
     "execution_count": 9,
     "metadata": {},
     "output_type": "execute_result"
    }
   ],
   "source": [
    "fx.shape"
   ]
  },
  {
   "cell_type": "code",
   "execution_count": 10,
   "metadata": {},
   "outputs": [],
   "source": [
    "data = f3.sum().append(f4.sum()).append(f5.sum()).append(f6.sum()).append(f7.sum()).append(f8.sum()).append(f9.sum()).append(f10.sum()).append(f11.sum()).append(f12.sum()).append(f1.sum()).append(f2.sum())"
   ]
  },
  {
   "cell_type": "code",
   "execution_count": 11,
   "metadata": {},
   "outputs": [
    {
     "name": "stderr",
     "output_type": "stream",
     "text": [
      "C:\\Users\\karan\\AppData\\Local\\Programs\\Python\\Python37\\lib\\site-packages\\statsmodels\\tsa\\base\\tsa_model.py:225: ValueWarning: A date index has been provided, but it has no associated frequency information and so will be ignored when e.g. forecasting.\n",
      "  ' ignored when e.g. forecasting.', ValueWarning)\n"
     ]
    }
   ],
   "source": [
    "\n",
    "from statsmodels.tsa.ar_model import AR\n",
    "from random import random\n",
    "# contrived dataset\n",
    "#data = [x+random() for x in range(1, 100)]\n",
    "# fit model\n",
    "model = AR(data)\n",
    "model_fit = model.fit()\n",
    "# make prediction\n",
    "#yhat = model_fit.predict(len(data), len(data)+10)\n",
    "#print(yhat)"
   ]
  },
  {
   "cell_type": "code",
   "execution_count": 13,
   "metadata": {},
   "outputs": [
    {
     "name": "stderr",
     "output_type": "stream",
     "text": [
      "C:\\Users\\karan\\AppData\\Local\\Programs\\Python\\Python37\\lib\\site-packages\\statsmodels\\tsa\\base\\tsa_model.py:531: ValueWarning: No supported index is available. Prediction results will be given with an integer index beginning at `start`.\n",
      "  ValueWarning)\n"
     ]
    },
    {
     "data": {
      "text/plain": [
       "347    240.524394\n",
       "348    226.532726\n",
       "349    209.024935\n",
       "350    210.515960\n",
       "351    216.783397\n",
       "352    216.522363\n",
       "353    207.259235\n",
       "354    218.503980\n",
       "355    219.362647\n",
       "356    205.983473\n",
       "357    213.059922\n",
       "358    214.612780\n",
       "359    210.996797\n",
       "360    212.839220\n",
       "361    217.981677\n",
       "362    213.957047\n",
       "363    212.350435\n",
       "364    208.078017\n",
       "365    208.610364\n",
       "366    211.389586\n",
       "367    211.155797\n",
       "368    208.766682\n",
       "369    211.327425\n",
       "370    210.715303\n",
       "371    208.063471\n",
       "372    208.427089\n",
       "373    208.523297\n",
       "374    208.378551\n",
       "375    208.797820\n",
       "dtype: float64"
      ]
     },
     "execution_count": 13,
     "metadata": {},
     "output_type": "execute_result"
    }
   ],
   "source": [
    "yhat = model_fit.predict(len(data),len(data)+28)\n",
    "yhat"
   ]
  },
  {
   "cell_type": "code",
   "execution_count": 14,
   "metadata": {},
   "outputs": [],
   "source": [
    "from sklearn.metrics import mean_squared_error as mse\n",
    "import math\n",
    "m = math.sqrt(mse(fx.sum().values,yhat))"
   ]
  },
  {
   "cell_type": "code",
   "execution_count": 15,
   "metadata": {},
   "outputs": [
    {
     "data": {
      "text/plain": [
       "<matplotlib.axes._subplots.AxesSubplot at 0x229e7b9c828>"
      ]
     },
     "execution_count": 15,
     "metadata": {},
     "output_type": "execute_result"
    },
    {
     "data": {
      "image/png": "[encoded data removed]",
      "text/plain": [
       "<Figure size 432x288 with 1 Axes>"
      ]
     },
     "metadata": {
      "needs_background": "light"
     },
     "output_type": "display_data"
    }
   ],
   "source": [
    "yhat.plot()"
   ]
  },
  {
   "cell_type": "code",
   "execution_count": 16,
   "metadata": {},
   "outputs": [
    {
     "data": {
      "text/plain": [
       "<matplotlib.axes._subplots.AxesSubplot at 0x229e7c68e10>"
      ]
     },
     "execution_count": 16,
     "metadata": {},
     "output_type": "execute_result"
    },
    {
     "data": {
      "image/png": "[encoded data removed]",
      "text/plain": [
       "<Figure size 432x288 with 1 Axes>"
      ]
     },
     "metadata": {
      "needs_background": "light"
     },
     "output_type": "display_data"
    }
   ],
   "source": [
    "fx.sum().plot()"
   ]
  },
  {
   "cell_type": "markdown",
   "metadata": {},
   "source": [
    "### Auto Regressive Model for only one month\n",
    "1. Works well when there is no sessional component or pattern in the data."
   ]
  },
  {
   "cell_type": "code",
   "execution_count": 17,
   "metadata": {},
   "outputs": [],
   "source": [
    "X_train = data[:20]\n",
    "X_test = data[20:30]"
   ]
  },
  {
   "cell_type": "code",
   "execution_count": 18,
   "metadata": {},
   "outputs": [
    {
     "name": "stderr",
     "output_type": "stream",
     "text": [
      "C:\\Users\\karan\\AppData\\Local\\Programs\\Python\\Python37\\lib\\site-packages\\statsmodels\\tsa\\base\\tsa_model.py:171: ValueWarning: No frequency information was provided, so inferred frequency D will be used.\n",
      "  % freq, ValueWarning)\n",
      "C:\\Users\\karan\\AppData\\Local\\Programs\\Python\\Python37\\lib\\site-packages\\statsmodels\\tsa\\base\\tsa_model.py:191: FutureWarning: Creating a DatetimeIndex by passing range endpoints is deprecated.  Use `pandas.date_range` instead.\n",
      "  start=index[0], end=index[-1], freq=freq)\n"
     ]
    }
   ],
   "source": [
    "model = AR(X_train)\n",
    "model_fit = model.fit()"
   ]
  },
  {
   "cell_type": "code",
   "execution_count": 19,
   "metadata": {},
   "outputs": [
    {
     "name": "stderr",
     "output_type": "stream",
     "text": [
      "C:\\Users\\karan\\AppData\\Local\\Programs\\Python\\Python37\\lib\\site-packages\\statsmodels\\tsa\\base\\tsa_model.py:320: FutureWarning: Creating a DatetimeIndex by passing range endpoints is deprecated.  Use `pandas.date_range` instead.\n",
      "  freq=base_index.freq)\n"
     ]
    }
   ],
   "source": [
    "yhat= model_fit.predict(len(X_train),len(X_train)+9)"
   ]
  },
  {
   "cell_type": "code",
   "execution_count": 20,
   "metadata": {},
   "outputs": [
    {
     "data": {
      "text/plain": [
       "10"
      ]
     },
     "execution_count": 20,
     "metadata": {},
     "output_type": "execute_result"
    }
   ],
   "source": [
    "len(yhat)"
   ]
  },
  {
   "cell_type": "code",
   "execution_count": 21,
   "metadata": {},
   "outputs": [
    {
     "data": {
      "text/plain": [
       "15.511902249116648"
      ]
     },
     "execution_count": 21,
     "metadata": {},
     "output_type": "execute_result"
    }
   ],
   "source": [
    "math.sqrt(mse(X_test,yhat))"
   ]
  },
  {
   "cell_type": "markdown",
   "metadata": {},
   "source": [
    "### MA Model\n",
    "1. The method is suitable for univariate time series without trend and seasonal components."
   ]
  },
  {
   "cell_type": "code",
   "execution_count": 24,
   "metadata": {},
   "outputs": [
    {
     "name": "stderr",
     "output_type": "stream",
     "text": [
      "C:\\Users\\karan\\AppData\\Local\\Programs\\Python\\Python37\\lib\\site-packages\\statsmodels\\tsa\\base\\tsa_model.py:171: ValueWarning: No frequency information was provided, so inferred frequency D will be used.\n",
      "  % freq, ValueWarning)\n",
      "C:\\Users\\karan\\AppData\\Local\\Programs\\Python\\Python37\\lib\\site-packages\\statsmodels\\tsa\\base\\tsa_model.py:191: FutureWarning: Creating a DatetimeIndex by passing range endpoints is deprecated.  Use `pandas.date_range` instead.\n",
      "  start=index[0], end=index[-1], freq=freq)\n",
      "C:\\Users\\karan\\AppData\\Local\\Programs\\Python\\Python37\\lib\\site-packages\\statsmodels\\tsa\\base\\tsa_model.py:320: FutureWarning: Creating a DatetimeIndex by passing range endpoints is deprecated.  Use `pandas.date_range` instead.\n",
      "  freq=base_index.freq)\n"
     ]
    },
    {
     "data": {
      "text/plain": [
       "11.778740646790476"
      ]
     },
     "execution_count": 24,
     "metadata": {},
     "output_type": "execute_result"
    }
   ],
   "source": [
    "from statsmodels.tsa.arima_model import ARMA\n",
    "model = ARMA(X_train, order=(0, 1))\n",
    "model_fit = model.fit(disp=False)\n",
    "# make prediction\n",
    "yhat = model_fit.predict(len(X_train), len(X_train)+9)\n",
    "math.sqrt(mse(X_test,yhat))"
   ]
  },
  {
   "cell_type": "markdown",
   "metadata": {},
   "source": [
    "### ARMA model\n",
    "1. The Autoregressive Moving Average (ARMA) method models the next step in the sequence as a linear function of the observations and resiudal errors at prior time steps.\n",
    "\n",
    "2. It combines both Autoregression (AR) and Moving Average (MA) models."
   ]
  },
  {
   "cell_type": "code",
   "execution_count": 25,
   "metadata": {},
   "outputs": [
    {
     "name": "stdout",
     "output_type": "stream",
     "text": [
      "347    232.641509\n",
      "dtype: float64\n"
     ]
    },
    {
     "name": "stderr",
     "output_type": "stream",
     "text": [
      "C:\\Users\\karan\\AppData\\Local\\Programs\\Python\\Python37\\lib\\site-packages\\statsmodels\\tsa\\base\\tsa_model.py:225: ValueWarning: A date index has been provided, but it has no associated frequency information and so will be ignored when e.g. forecasting.\n",
      "  ' ignored when e.g. forecasting.', ValueWarning)\n",
      "C:\\Users\\karan\\AppData\\Local\\Programs\\Python\\Python37\\lib\\site-packages\\statsmodels\\tsa\\base\\tsa_model.py:531: ValueWarning: No supported index is available. Prediction results will be given with an integer index beginning at `start`.\n",
      "  ValueWarning)\n"
     ]
    }
   ],
   "source": [
    "model = ARMA(data, order=(2, 1))\n",
    "model_fit = model.fit(disp=False)\n",
    "# make prediction\n",
    "yhat = model_fit.predict(len(data), len(data))\n",
    "print(yhat)"
   ]
  },
  {
   "cell_type": "code",
   "execution_count": 26,
   "metadata": {},
   "outputs": [
    {
     "name": "stderr",
     "output_type": "stream",
     "text": [
      "C:\\Users\\karan\\AppData\\Local\\Programs\\Python\\Python37\\lib\\site-packages\\statsmodels\\tsa\\base\\tsa_model.py:171: ValueWarning: No frequency information was provided, so inferred frequency D will be used.\n",
      "  % freq, ValueWarning)\n",
      "C:\\Users\\karan\\AppData\\Local\\Programs\\Python\\Python37\\lib\\site-packages\\statsmodels\\tsa\\base\\tsa_model.py:191: FutureWarning: Creating a DatetimeIndex by passing range endpoints is deprecated.  Use `pandas.date_range` instead.\n",
      "  start=index[0], end=index[-1], freq=freq)\n",
      "C:\\Users\\karan\\AppData\\Local\\Programs\\Python\\Python37\\lib\\site-packages\\statsmodels\\tsa\\base\\tsa_model.py:320: FutureWarning: Creating a DatetimeIndex by passing range endpoints is deprecated.  Use `pandas.date_range` instead.\n",
      "  freq=base_index.freq)\n"
     ]
    },
    {
     "data": {
      "text/plain": [
       "17.63078626718508"
      ]
     },
     "execution_count": 26,
     "metadata": {},
     "output_type": "execute_result"
    }
   ],
   "source": [
    "from statsmodels.tsa.arima_model import ARMA\n",
    "model = ARMA(X_train, order=(2,1))\n",
    "model_fit = model.fit(disp=False)\n",
    "yhat = model_fit.predict(len(X_train), len(X_train)+9)\n",
    "math.sqrt(mse(X_test,yhat))"
   ]
  },
  {
   "cell_type": "markdown",
   "metadata": {},
   "source": [
    "### ARIMA Model"
   ]
  },
  {
   "cell_type": "code",
   "execution_count": 42,
   "metadata": {},
   "outputs": [
    {
     "name": "stderr",
     "output_type": "stream",
     "text": [
      "C:\\Users\\karan\\AppData\\Local\\Programs\\Python\\Python37\\lib\\site-packages\\statsmodels\\tsa\\base\\tsa_model.py:171: ValueWarning: No frequency information was provided, so inferred frequency D will be used.\n",
      "  % freq, ValueWarning)\n",
      "C:\\Users\\karan\\AppData\\Local\\Programs\\Python\\Python37\\lib\\site-packages\\statsmodels\\tsa\\base\\tsa_model.py:171: ValueWarning: No frequency information was provided, so inferred frequency D will be used.\n",
      "  % freq, ValueWarning)\n",
      "C:\\Users\\karan\\AppData\\Local\\Programs\\Python\\Python37\\lib\\site-packages\\statsmodels\\tsa\\base\\tsa_model.py:171: ValueWarning: No frequency information was provided, so inferred frequency D will be used.\n",
      "  % freq, ValueWarning)\n",
      "C:\\Users\\karan\\AppData\\Local\\Programs\\Python\\Python37\\lib\\site-packages\\statsmodels\\tsa\\base\\tsa_model.py:171: ValueWarning: No frequency information was provided, so inferred frequency D will be used.\n",
      "  % freq, ValueWarning)\n",
      "C:\\Users\\karan\\AppData\\Local\\Programs\\Python\\Python37\\lib\\site-packages\\statsmodels\\tsa\\base\\tsa_model.py:171: ValueWarning: No frequency information was provided, so inferred frequency D will be used.\n",
      "  % freq, ValueWarning)\n",
      "C:\\Users\\karan\\AppData\\Local\\Programs\\Python\\Python37\\lib\\site-packages\\statsmodels\\tsa\\base\\tsa_model.py:171: ValueWarning: No frequency information was provided, so inferred frequency D will be used.\n",
      "  % freq, ValueWarning)\n"
     ]
    },
    {
     "name": "stdout",
     "output_type": "stream",
     "text": [
      "16.594787993754156\n",
      "16.26736188938622\n"
     ]
    },
    {
     "name": "stderr",
     "output_type": "stream",
     "text": [
      "C:\\Users\\karan\\AppData\\Local\\Programs\\Python\\Python37\\lib\\site-packages\\statsmodels\\base\\model.py:488: HessianInversionWarning: Inverting hessian failed, no bse or cov_params available\n",
      "  'available', HessianInversionWarning)\n",
      "C:\\Users\\karan\\AppData\\Local\\Programs\\Python\\Python37\\lib\\site-packages\\statsmodels\\tsa\\base\\tsa_model.py:171: ValueWarning: No frequency information was provided, so inferred frequency D will be used.\n",
      "  % freq, ValueWarning)\n",
      "C:\\Users\\karan\\AppData\\Local\\Programs\\Python\\Python37\\lib\\site-packages\\statsmodels\\tsa\\base\\tsa_model.py:171: ValueWarning: No frequency information was provided, so inferred frequency D will be used.\n",
      "  % freq, ValueWarning)\n",
      "C:\\Users\\karan\\AppData\\Local\\Programs\\Python\\Python37\\lib\\site-packages\\statsmodels\\tsa\\base\\tsa_model.py:171: ValueWarning: No frequency information was provided, so inferred frequency D will be used.\n",
      "  % freq, ValueWarning)\n",
      "C:\\Users\\karan\\AppData\\Local\\Programs\\Python\\Python37\\lib\\site-packages\\statsmodels\\tsa\\base\\tsa_model.py:171: ValueWarning: No frequency information was provided, so inferred frequency D will be used.\n",
      "  % freq, ValueWarning)\n",
      "C:\\Users\\karan\\AppData\\Local\\Programs\\Python\\Python37\\lib\\site-packages\\statsmodels\\tsa\\base\\tsa_model.py:171: ValueWarning: No frequency information was provided, so inferred frequency D will be used.\n",
      "  % freq, ValueWarning)\n",
      "C:\\Users\\karan\\AppData\\Local\\Programs\\Python\\Python37\\lib\\site-packages\\statsmodels\\tsa\\base\\tsa_model.py:171: ValueWarning: No frequency information was provided, so inferred frequency D will be used.\n",
      "  % freq, ValueWarning)\n",
      "C:\\Users\\karan\\AppData\\Local\\Programs\\Python\\Python37\\lib\\site-packages\\statsmodels\\base\\model.py:488: HessianInversionWarning: Inverting hessian failed, no bse or cov_params available\n",
      "  'available', HessianInversionWarning)\n",
      "C:\\Users\\karan\\AppData\\Local\\Programs\\Python\\Python37\\lib\\site-packages\\statsmodels\\tsa\\base\\tsa_model.py:171: ValueWarning: No frequency information was provided, so inferred frequency D will be used.\n",
      "  % freq, ValueWarning)\n",
      "C:\\Users\\karan\\AppData\\Local\\Programs\\Python\\Python37\\lib\\site-packages\\statsmodels\\tsa\\base\\tsa_model.py:171: ValueWarning: No frequency information was provided, so inferred frequency D will be used.\n",
      "  % freq, ValueWarning)\n"
     ]
    },
    {
     "name": "stdout",
     "output_type": "stream",
     "text": [
      "12.49474316352687\n",
      "47.8516768014575\n",
      "16.515778374839687\n",
      "17.20120672616724\n"
     ]
    },
    {
     "name": "stderr",
     "output_type": "stream",
     "text": [
      "C:\\Users\\karan\\AppData\\Local\\Programs\\Python\\Python37\\lib\\site-packages\\statsmodels\\tsa\\base\\tsa_model.py:171: ValueWarning: No frequency information was provided, so inferred frequency D will be used.\n",
      "  % freq, ValueWarning)\n",
      "C:\\Users\\karan\\AppData\\Local\\Programs\\Python\\Python37\\lib\\site-packages\\statsmodels\\tsa\\base\\tsa_model.py:171: ValueWarning: No frequency information was provided, so inferred frequency D will be used.\n",
      "  % freq, ValueWarning)\n",
      "C:\\Users\\karan\\AppData\\Local\\Programs\\Python\\Python37\\lib\\site-packages\\statsmodels\\tsa\\base\\tsa_model.py:171: ValueWarning: No frequency information was provided, so inferred frequency D will be used.\n",
      "  % freq, ValueWarning)\n",
      "C:\\Users\\karan\\AppData\\Local\\Programs\\Python\\Python37\\lib\\site-packages\\statsmodels\\tsa\\base\\tsa_model.py:171: ValueWarning: No frequency information was provided, so inferred frequency D will be used.\n",
      "  % freq, ValueWarning)\n"
     ]
    },
    {
     "name": "stdout",
     "output_type": "stream",
     "text": [
      "22.127325155140095\n",
      "17.43735306941636\n"
     ]
    },
    {
     "name": "stderr",
     "output_type": "stream",
     "text": [
      "C:\\Users\\karan\\AppData\\Local\\Programs\\Python\\Python37\\lib\\site-packages\\statsmodels\\tsa\\base\\tsa_model.py:171: ValueWarning: No frequency information was provided, so inferred frequency D will be used.\n",
      "  % freq, ValueWarning)\n",
      "C:\\Users\\karan\\AppData\\Local\\Programs\\Python\\Python37\\lib\\site-packages\\statsmodels\\tsa\\base\\tsa_model.py:171: ValueWarning: No frequency information was provided, so inferred frequency D will be used.\n",
      "  % freq, ValueWarning)\n",
      "C:\\Users\\karan\\AppData\\Local\\Programs\\Python\\Python37\\lib\\site-packages\\statsmodels\\tsa\\base\\tsa_model.py:171: ValueWarning: No frequency information was provided, so inferred frequency D will be used.\n",
      "  % freq, ValueWarning)\n",
      "C:\\Users\\karan\\AppData\\Local\\Programs\\Python\\Python37\\lib\\site-packages\\statsmodels\\tsa\\base\\tsa_model.py:171: ValueWarning: No frequency information was provided, so inferred frequency D will be used.\n",
      "  % freq, ValueWarning)\n",
      "C:\\Users\\karan\\AppData\\Local\\Programs\\Python\\Python37\\lib\\site-packages\\statsmodels\\base\\model.py:488: HessianInversionWarning: Inverting hessian failed, no bse or cov_params available\n",
      "  'available', HessianInversionWarning)\n",
      "C:\\Users\\karan\\AppData\\Local\\Programs\\Python\\Python37\\lib\\site-packages\\statsmodels\\tsa\\base\\tsa_model.py:171: ValueWarning: No frequency information was provided, so inferred frequency D will be used.\n",
      "  % freq, ValueWarning)\n",
      "C:\\Users\\karan\\AppData\\Local\\Programs\\Python\\Python37\\lib\\site-packages\\statsmodels\\tsa\\base\\tsa_model.py:171: ValueWarning: No frequency information was provided, so inferred frequency D will be used.\n",
      "  % freq, ValueWarning)\n",
      "C:\\Users\\karan\\AppData\\Local\\Programs\\Python\\Python37\\lib\\site-packages\\statsmodels\\base\\model.py:488: HessianInversionWarning: Inverting hessian failed, no bse or cov_params available\n",
      "  'available', HessianInversionWarning)\n",
      "C:\\Users\\karan\\AppData\\Local\\Programs\\Python\\Python37\\lib\\site-packages\\statsmodels\\tsa\\base\\tsa_model.py:171: ValueWarning: No frequency information was provided, so inferred frequency D will be used.\n",
      "  % freq, ValueWarning)\n",
      "C:\\Users\\karan\\AppData\\Local\\Programs\\Python\\Python37\\lib\\site-packages\\statsmodels\\tsa\\base\\tsa_model.py:171: ValueWarning: No frequency information was provided, so inferred frequency D will be used.\n",
      "  % freq, ValueWarning)\n",
      "C:\\Users\\karan\\AppData\\Local\\Programs\\Python\\Python37\\lib\\site-packages\\statsmodels\\tsa\\base\\tsa_model.py:171: ValueWarning: No frequency information was provided, so inferred frequency D will be used.\n",
      "  % freq, ValueWarning)\n",
      "C:\\Users\\karan\\AppData\\Local\\Programs\\Python\\Python37\\lib\\site-packages\\statsmodels\\tsa\\base\\tsa_model.py:171: ValueWarning: No frequency information was provided, so inferred frequency D will be used.\n",
      "  % freq, ValueWarning)\n"
     ]
    },
    {
     "name": "stdout",
     "output_type": "stream",
     "text": [
      "7.723680341461867\n",
      "11.527945234886241\n",
      "16.76799581808826\n",
      "13.306283676357264\n"
     ]
    },
    {
     "name": "stderr",
     "output_type": "stream",
     "text": [
      "C:\\Users\\karan\\AppData\\Local\\Programs\\Python\\Python37\\lib\\site-packages\\statsmodels\\base\\model.py:488: HessianInversionWarning: Inverting hessian failed, no bse or cov_params available\n",
      "  'available', HessianInversionWarning)\n",
      "C:\\Users\\karan\\AppData\\Local\\Programs\\Python\\Python37\\lib\\site-packages\\statsmodels\\tsa\\base\\tsa_model.py:171: ValueWarning: No frequency information was provided, so inferred frequency D will be used.\n",
      "  % freq, ValueWarning)\n",
      "C:\\Users\\karan\\AppData\\Local\\Programs\\Python\\Python37\\lib\\site-packages\\statsmodels\\tsa\\base\\tsa_model.py:171: ValueWarning: No frequency information was provided, so inferred frequency D will be used.\n",
      "  % freq, ValueWarning)\n",
      "C:\\Users\\karan\\AppData\\Local\\Programs\\Python\\Python37\\lib\\site-packages\\statsmodels\\tsa\\base\\tsa_model.py:171: ValueWarning: No frequency information was provided, so inferred frequency D will be used.\n",
      "  % freq, ValueWarning)\n",
      "C:\\Users\\karan\\AppData\\Local\\Programs\\Python\\Python37\\lib\\site-packages\\statsmodels\\tsa\\base\\tsa_model.py:171: ValueWarning: No frequency information was provided, so inferred frequency D will be used.\n",
      "  % freq, ValueWarning)\n",
      "C:\\Users\\karan\\AppData\\Local\\Programs\\Python\\Python37\\lib\\site-packages\\statsmodels\\tsa\\base\\tsa_model.py:171: ValueWarning: No frequency information was provided, so inferred frequency D will be used.\n",
      "  % freq, ValueWarning)\n",
      "C:\\Users\\karan\\AppData\\Local\\Programs\\Python\\Python37\\lib\\site-packages\\statsmodels\\tsa\\base\\tsa_model.py:171: ValueWarning: No frequency information was provided, so inferred frequency D will be used.\n",
      "  % freq, ValueWarning)\n",
      "C:\\Users\\karan\\AppData\\Local\\Programs\\Python\\Python37\\lib\\site-packages\\statsmodels\\tsa\\base\\tsa_model.py:171: ValueWarning: No frequency information was provided, so inferred frequency D will be used.\n",
      "  % freq, ValueWarning)\n",
      "C:\\Users\\karan\\AppData\\Local\\Programs\\Python\\Python37\\lib\\site-packages\\statsmodels\\tsa\\base\\tsa_model.py:171: ValueWarning: No frequency information was provided, so inferred frequency D will be used.\n",
      "  % freq, ValueWarning)\n"
     ]
    }
   ],
   "source": [
    "from statsmodels.tsa.arima_model import ARIMA\n",
    "from random import random\n",
    "# contrived dataset\n",
    "#data = [x + random() for x in range(1, 100)]\n",
    "# fit model\n",
    "for i in range(1,4):\n",
    "    for j in range(1,4):\n",
    "        for k in range(1,4):\n",
    "            try:\n",
    "                model = ARIMA(X_train, order=(i, j, k))\n",
    "                model_fit = model.fit(disp=False)\n",
    "                # make prediction\n",
    "                yhat = model_fit.predict(len(X_train), len(X_train)+9, typ='levels')\n",
    "                print(math.sqrt(mse(X_test,yhat)))\n",
    "            except:\n",
    "                continue"
   ]
  },
  {
   "cell_type": "code",
   "execution_count": 43,
   "metadata": {},
   "outputs": [
    {
     "data": {
      "text/plain": [
       "<matplotlib.axes._subplots.AxesSubplot at 0x1621abcd978>"
      ]
     },
     "execution_count": 43,
     "metadata": {},
     "output_type": "execute_result"
    },
    {
     "data": {
      "image/png": "[encoded data removed]",
      "text/plain": [
       "<Figure size 432x288 with 1 Axes>"
      ]
     },
     "metadata": {
      "needs_background": "light"
     },
     "output_type": "display_data"
    }
   ],
   "source": [
    "data.plot()"
   ]
  },
  {
   "cell_type": "markdown",
   "metadata": {},
   "source": [
    "## Conclusion \n",
    "1. From the above plot we can see that there is no pattern in the dataset, so our predictions are almost like random model so our error are very high."
   ]
  },
  {
   "cell_type": "markdown",
   "metadata": {},
   "source": [
    "### using the data per time unit"
   ]
  },
  {
   "cell_type": "code",
   "execution_count": 235,
   "metadata": {},
   "outputs": [],
   "source": [
    "j = pd.read_csv('JULY_B_2018.csv')\n",
    "a = pd.read_csv('AUG_B_2018.csv')\n",
    "s = pd.read_csv('SEP_B_2018.csv')\n",
    "o = pd.read_csv('OCT_B_2018.csv')\n",
    "n = pd.read_csv('NOV_B_2018.csv')\n",
    "d = pd.read_csv('DEC_B_2018.csv')\n",
    "jan = pd.read_csv('JAN_B_2019.csv')\n",
    "fab = pd.read_csv('FAB_B_2019.csv')\n",
    "m = pd.read_csv('MAR_B_2018.csv')\n",
    "ma = pd.read_csv('APR_B_2018.csv')\n",
    "my = pd.read_csv('MAY_B_2018.csv')\n",
    "ju = pd.read_csv('JUNE_B_2018.csv')\n",
    "mar2019 = pd.read_csv('MAR_B_2019.csv')"
   ]
  },
  {
   "cell_type": "code",
   "execution_count": 237,
   "metadata": {},
   "outputs": [
    {
     "ename": "AttributeError",
     "evalue": "'range' object has no attribute 'T'",
     "output_type": "error",
     "traceback": [
      "\u001b[1;31m---------------------------------------------------------------------------\u001b[0m",
      "\u001b[1;31mAttributeError\u001b[0m                            Traceback (most recent call last)",
      "\u001b[1;32m<ipython-input-237-a2079368aed9>\u001b[0m in \u001b[0;36m<module>\u001b[1;34m\u001b[0m\n\u001b[0;32m      8\u001b[0m \u001b[0mff10\u001b[0m \u001b[1;33m=\u001b[0m \u001b[0mo\u001b[0m\u001b[1;33m.\u001b[0m\u001b[0mT\u001b[0m\u001b[1;33m.\u001b[0m\u001b[0miloc\u001b[0m\u001b[1;33m[\u001b[0m\u001b[1;36m21\u001b[0m\u001b[1;33m:\u001b[0m\u001b[1;36m55\u001b[0m\u001b[1;33m]\u001b[0m \u001b[1;31m# january data\u001b[0m\u001b[1;33m\u001b[0m\u001b[0m\n\u001b[0;32m      9\u001b[0m \u001b[0mff11\u001b[0m \u001b[1;33m=\u001b[0m \u001b[0mn\u001b[0m\u001b[1;33m.\u001b[0m\u001b[0mT\u001b[0m\u001b[1;33m.\u001b[0m\u001b[0miloc\u001b[0m\u001b[1;33m[\u001b[0m\u001b[1;36m21\u001b[0m\u001b[1;33m:\u001b[0m\u001b[1;36m55\u001b[0m\u001b[1;33m]\u001b[0m \u001b[1;31m# february data\u001b[0m\u001b[1;33m\u001b[0m\u001b[0m\n\u001b[1;32m---> 10\u001b[1;33m \u001b[0mff12\u001b[0m \u001b[1;33m=\u001b[0m \u001b[0md\u001b[0m\u001b[1;33m.\u001b[0m\u001b[0mT\u001b[0m\u001b[1;33m.\u001b[0m\u001b[0miloc\u001b[0m\u001b[1;33m[\u001b[0m\u001b[1;36m21\u001b[0m\u001b[1;33m:\u001b[0m\u001b[1;36m55\u001b[0m\u001b[1;33m]\u001b[0m    \u001b[1;31m# march data\u001b[0m\u001b[1;33m\u001b[0m\u001b[0m\n\u001b[0m\u001b[0;32m     11\u001b[0m \u001b[0mff1\u001b[0m \u001b[1;33m=\u001b[0m \u001b[0mjan\u001b[0m\u001b[1;33m.\u001b[0m\u001b[0mT\u001b[0m\u001b[1;33m.\u001b[0m\u001b[0miloc\u001b[0m\u001b[1;33m[\u001b[0m\u001b[1;36m21\u001b[0m\u001b[1;33m:\u001b[0m\u001b[1;36m55\u001b[0m\u001b[1;33m]\u001b[0m \u001b[1;31m# january data\u001b[0m\u001b[1;33m\u001b[0m\u001b[0m\n\u001b[0;32m     12\u001b[0m \u001b[0mff2\u001b[0m \u001b[1;33m=\u001b[0m \u001b[0mfab\u001b[0m\u001b[1;33m.\u001b[0m\u001b[0mT\u001b[0m\u001b[1;33m.\u001b[0m\u001b[0miloc\u001b[0m\u001b[1;33m[\u001b[0m\u001b[1;36m21\u001b[0m\u001b[1;33m:\u001b[0m\u001b[1;36m55\u001b[0m\u001b[1;33m]\u001b[0m \u001b[1;31m#february\u001b[0m\u001b[1;33m\u001b[0m\u001b[0m\n",
      "\u001b[1;31mAttributeError\u001b[0m: 'range' object has no attribute 'T'"
     ]
    }
   ],
   "source": [
    "ff3 = m.T.iloc[21:55]\n",
    "ff4 = ma.T.iloc[21:55] # july data\n",
    "ff5 = my.T.iloc[21:55] # august data\n",
    "ff6 = ju.T.iloc[21:55] # september data\n",
    "ff7 = j.T.iloc[21:55] # October data\n",
    "ff8 = a.T.iloc[21:55] # november data\n",
    "ff9 = s.T.iloc[21:55] # december data\n",
    "ff10 = o.T.iloc[21:55] # january data\n",
    "ff11 = n.T.iloc[21:55] # february data\n",
    "ff12 = d.T.iloc[21:55]    # march data\n",
    "ff1 = jan.T.iloc[21:55] # january data\n",
    "ff2 = fab.T.iloc[21:55] #february\n",
    "ffx = mar2019"
   ]
  },
  {
   "cell_type": "code",
   "execution_count": null,
   "metadata": {},
   "outputs": [],
   "source": [
    "ff3 = ff3.T"
   ]
  },
  {
   "cell_type": "code",
   "execution_count": null,
   "metadata": {},
   "outputs": [],
   "source": [
    "ff3.head()"
   ]
  },
  {
   "cell_type": "code",
   "execution_count": null,
   "metadata": {},
   "outputs": [],
   "source": [
    "data = []\n",
    "for d in ff3.values:\n",
    "    for dx in d:\n",
    "        data.append(dx)"
   ]
  },
  {
   "cell_type": "code",
   "execution_count": null,
   "metadata": {},
   "outputs": [],
   "source": [
    "plt.figure(figsize = (14,6))\n",
    "plt.plot(data)"
   ]
  },
  {
   "cell_type": "code",
   "execution_count": null,
   "metadata": {},
   "outputs": [],
   "source": [
    "## There is a pattern in the dataset now we will appy our model"
   ]
  },
  {
   "cell_type": "code",
   "execution_count": null,
   "metadata": {},
   "outputs": [],
   "source": [
    "len(data)"
   ]
  },
  {
   "cell_type": "code",
   "execution_count": null,
   "metadata": {},
   "outputs": [],
   "source": [
    "import warnings\n",
    "warnings.filterwarnings('ignore')"
   ]
  },
  {
   "cell_type": "markdown",
   "metadata": {},
   "source": [
    "## Stationary Time Series\n",
    "1. Values of the series are not dependent on the time.\n",
    "2. But by looking the above plot we can see that our time series data is not stationary."
   ]
  },
  {
   "cell_type": "code",
   "execution_count": null,
   "metadata": {},
   "outputs": [],
   "source": [
    "d1 = data[1:]\n",
    "d2 = data[0:len(data)-1]"
   ]
  },
  {
   "cell_type": "code",
   "execution_count": null,
   "metadata": {},
   "outputs": [],
   "source": [
    "plt.figure(figsize=(10,6))\n",
    "plt.plot(data)\n",
    "plt.title(\"Time series data\")\n",
    "plt.xlabel(\"Time\")\n",
    "plt.xticks([])\n",
    "plt.ylabel(\"Reading\")\n",
    "plt.show();"
   ]
  },
  {
   "cell_type": "code",
   "execution_count": null,
   "metadata": {},
   "outputs": [],
   "source": [
    "# trying to create stationaroty using first order differencing\n",
    "plt.figure(figsize=(10,6))\n",
    "plt.plot((np.array(d1)-np.array(d2)))\n",
    "plt.title(\"Time series data\")\n",
    "plt.xlabel(\"Time\")\n",
    "plt.xticks([])\n",
    "plt.ylabel(\"Reading\")\n",
    "plt.show();"
   ]
  },
  {
   "cell_type": "code",
   "execution_count": null,
   "metadata": {},
   "outputs": [],
   "source": [
    "# zoom out in the darker region \n",
    "plt.figure(figsize=(10,6))\n",
    "plt.plot((np.array(d1[30:110])-np.array(d2[30:110])))"
   ]
  },
  {
   "cell_type": "markdown",
   "metadata": {},
   "source": [
    "### Using one month data"
   ]
  },
  {
   "cell_type": "code",
   "execution_count": null,
   "metadata": {},
   "outputs": [],
   "source": [
    "# breaking the data into train and test\n",
    "X_train = data[:600]\n",
    "X_test = data[600:]"
   ]
  },
  {
   "cell_type": "markdown",
   "metadata": {},
   "source": [
    "### Autoregressive model :\n",
    "1. The autoregressive model specifies that the output variable depends linearly on its own previous values and on a stochastic term (an imperfectly predictable term); thus the model is in the form of a stochastic difference equation."
   ]
  },
  {
   "cell_type": "code",
   "execution_count": 41,
   "metadata": {},
   "outputs": [
    {
     "name": "stdout",
     "output_type": "stream",
     "text": [
      "RMSE of Autoregressive model:  3.317230133264176\n"
     ]
    }
   ],
   "source": [
    "import math\n",
    "from statsmodels.tsa.arima_model import AR\n",
    "model = AR(X_train)\n",
    "model_fit = model.fit(disp=True,full_output=1)\n",
    "yhat= model_fit.predict(len(X_train),len(data)-1)\n",
    "print(\"RMSE of Autoregressive model: \",math.sqrt(mse(X_test,yhat)))"
   ]
  },
  {
   "cell_type": "code",
   "execution_count": 42,
   "metadata": {},
   "outputs": [
    {
     "data": {
      "text/plain": [
       "array([ 2.21631071,  0.86022808,  0.10227845,  0.00475512,  0.25486291,\n",
       "       -0.37973035,  0.02503448, -0.05588366,  0.00980933,  0.01814027,\n",
       "       -0.12762109,  0.0626337 , -0.05809005,  0.06415365, -0.01791669,\n",
       "        0.07550772, -0.01660749, -0.09000649,  0.00570986, -0.04790632])"
      ]
     },
     "execution_count": 42,
     "metadata": {},
     "output_type": "execute_result"
    }
   ],
   "source": [
    "model_fit.params"
   ]
  },
  {
   "cell_type": "code",
   "execution_count": 43,
   "metadata": {},
   "outputs": [
    {
     "data": {
      "text/plain": [
       "<matplotlib.legend.Legend at 0x229e80674e0>"
      ]
     },
     "execution_count": 43,
     "metadata": {},
     "output_type": "execute_result"
    },
    {
     "data": {
      "image/png": "[encoded data removed]",
      "text/plain": [
       "<Figure size 432x288 with 1 Axes>"
      ]
     },
     "metadata": {
      "needs_background": "light"
     },
     "output_type": "display_data"
    }
   ],
   "source": [
    "plt.plot(yhat)\n",
    "plt.plot(X_test)\n",
    "plt.title(\"Predicted Values using Autoregressive Time Series Model\")\n",
    "plt.legend([\"Preidcted Value\",\"Actual Value\"])"
   ]
  },
  {
   "cell_type": "markdown",
   "metadata": {},
   "source": [
    "## Prediction one step ahead only using previous data"
   ]
  },
  {
   "cell_type": "code",
   "execution_count": 54,
   "metadata": {},
   "outputs": [],
   "source": [
    "# breaking the data into train and test\n",
    "yhat = []\n",
    "for count in range(600,len(data)):\n",
    "    X_train = data[:count]\n",
    "    X_test = data[count:]\n",
    "    model = AR(X_train)\n",
    "    model_fit = model.fit(disp=True,full_output=1)\n",
    "    yhat.append(model_fit.predict(count,count)[0])    "
   ]
  },
  {
   "cell_type": "code",
   "execution_count": 58,
   "metadata": {},
   "outputs": [
    {
     "name": "stdout",
     "output_type": "stream",
     "text": [
      "RMSE of Autoregressive model:  0.8455230761881047\n"
     ]
    }
   ],
   "source": [
    "X_test = data[600:]\n",
    "print(\"RMSE of Autoregressive model: \",math.sqrt(mse(X_test,yhat)))"
   ]
  },
  {
   "cell_type": "code",
   "execution_count": 60,
   "metadata": {},
   "outputs": [
    {
     "data": {
      "text/plain": [
       "[<matplotlib.lines.Line2D at 0x229e8723898>]"
      ]
     },
     "execution_count": 60,
     "metadata": {},
     "output_type": "execute_result"
    },
    {
     "data": {
      "image/png": "[encoded data removed]",
      "text/plain": [
       "<Figure size 432x288 with 1 Axes>"
      ]
     },
     "metadata": {
      "needs_background": "light"
     },
     "output_type": "display_data"
    }
   ],
   "source": [
    "plt.plot(X_test)\n",
    "plt.plot(yhat)"
   ]
  },
  {
   "cell_type": "markdown",
   "metadata": {},
   "source": [
    "### From the result of the above model we can see that after some time our model's output is going crazy"
   ]
  },
  {
   "cell_type": "markdown",
   "metadata": {},
   "source": [
    "### MA Model\n",
    "1. In time series analysis, the moving-average model (MA model), also known as moving-average process, is a common approach for modeling univariate time series. The moving-average model specifies that the output variable depends linearly on the current and various past values of a stochastic (imperfectly predictable) term."
   ]
  },
  {
   "cell_type": "code",
   "execution_count": 62,
   "metadata": {},
   "outputs": [],
   "source": [
    "# breaking the data into train and test\n",
    "X_train = data[:600]\n",
    "X_test = data[600:]"
   ]
  },
  {
   "cell_type": "code",
   "execution_count": 78,
   "metadata": {},
   "outputs": [
    {
     "name": "stdout",
     "output_type": "stream",
     "text": [
      "RMSE of the model : 3.7224145451743036\n"
     ]
    }
   ],
   "source": [
    "from statsmodels.tsa.arima_model import ARMA\n",
    "for k in [3]:#,1,3]:\n",
    "    try:\n",
    "        model = ARMA(X_train, order=(0, k))\n",
    "        model_fit = model.fit(disp=False)\n",
    "        yhat = model_fit.predict(len(X_train), len(data)-1)\n",
    "        print(\"RMSE of the model :\",math.sqrt(mse(X_test,yhat)))\n",
    "    except:\n",
    "        continue"
   ]
  },
  {
   "cell_type": "code",
   "execution_count": 79,
   "metadata": {},
   "outputs": [
    {
     "data": {
      "text/plain": [
       "<matplotlib.legend.Legend at 0x229e98f97b8>"
      ]
     },
     "execution_count": 79,
     "metadata": {},
     "output_type": "execute_result"
    },
    {
     "data": {
      "image/png": "[encoded data removed]",
      "text/plain": [
       "<Figure size 432x288 with 1 Axes>"
      ]
     },
     "metadata": {
      "needs_background": "light"
     },
     "output_type": "display_data"
    }
   ],
   "source": [
    "plt.plot(yhat)\n",
    "plt.plot(X_test)\n",
    "plt.title(\"Predicted Values using Moving Average Time Series Model\")\n",
    "plt.legend([\"Preidcted Value\",\"Actual Value\"])"
   ]
  },
  {
   "cell_type": "markdown",
   "metadata": {},
   "source": [
    "## Prediction one time ahead"
   ]
  },
  {
   "cell_type": "code",
   "execution_count": 85,
   "metadata": {},
   "outputs": [],
   "source": [
    "# breaking the data into train and test\n",
    "yhat1 = []\n",
    "for count in range(600,len(data)):\n",
    "    X_train = data[:count]\n",
    "    X_test = data[count:]\n",
    "    try:\n",
    "        model = ARMA(X_train, order=(0, k))\n",
    "        model_fit = model.fit(disp=False)\n",
    "        yhat = model_fit.predict(len(X_train), len(data)-1)\n",
    "       # print(\"RMSE of the model :\",math.sqrt(mse(X_test,yhat)))\n",
    "    except:\n",
    "        continue\n",
    "    yhat1.append(model_fit.predict(count,count)[0])   "
   ]
  },
  {
   "cell_type": "code",
   "execution_count": 90,
   "metadata": {},
   "outputs": [
    {
     "name": "stdout",
     "output_type": "stream",
     "text": [
      "RMSE of MovingAvearge using one time ahead prediction:  1.3945401892913203\n"
     ]
    }
   ],
   "source": [
    "X_test = data[600:]\n",
    "print(\"RMSE of MovingAvearge using one time ahead prediction: \",math.sqrt(mse(X_test,yhat1)))"
   ]
  },
  {
   "cell_type": "code",
   "execution_count": 91,
   "metadata": {},
   "outputs": [
    {
     "data": {
      "text/plain": [
       "[<matplotlib.lines.Line2D at 0x229e9a9a358>]"
      ]
     },
     "execution_count": 91,
     "metadata": {},
     "output_type": "execute_result"
    },
    {
     "data": {
      "image/png": "[encoded data removed]",
      "text/plain": [
       "<Figure size 432x288 with 1 Axes>"
      ]
     },
     "metadata": {
      "needs_background": "light"
     },
     "output_type": "display_data"
    }
   ],
   "source": [
    "plt.plot(X_test)\n",
    "plt.plot(yhat1)"
   ]
  },
  {
   "cell_type": "markdown",
   "metadata": {},
   "source": [
    "### ARMA model\n",
    "1. It is a combination of AR and MA models."
   ]
  },
  {
   "cell_type": "code",
   "execution_count": 150,
   "metadata": {},
   "outputs": [
    {
     "name": "stdout",
     "output_type": "stream",
     "text": [
      "RMSE of the model : 3.7922512306408067\n",
      "RMSE of the model : 3.779925101642414\n",
      "RMSE of the model : 3.77921838349697\n",
      "RMSE of the model : 3.761522307344421\n",
      "RMSE of the model : 3.759804222796191\n",
      "RMSE of the model : 3.7577939385693866\n",
      "RMSE of the model : 3.758211465896713\n",
      "RMSE of the model : 3.751556339939588\n",
      "RMSE of the model : 3.4167125119586506\n",
      "RMSE of the model : 3.213207178756845\n",
      "RMSE of the model : 3.199875499617559\n",
      "RMSE of the model : 3.208506347572498\n",
      "RMSE of the model : 3.275603396484747\n",
      "RMSE of the model : 3.356941525912369\n",
      "RMSE of the model : 3.234963854576374\n",
      "RMSE of the model : 3.1664044880733413\n",
      "RMSE of the model : 3.2197260141706034\n",
      "RMSE of the model : 3.3011367000454888\n",
      "RMSE of the model : 3.1934378129025687\n",
      "RMSE of the model : 3.1966788093911642\n",
      "RMSE of the model : 1.2147940440665868\n",
      "RMSE of the model : 3.546293936197782\n",
      "RMSE of the model : 3.446300763247456\n",
      "RMSE of the model : 3.245680841997958\n",
      "RMSE of the model : 3.227966151449833\n",
      "RMSE of the model : 3.272274916172152\n",
      "RMSE of the model : 3.254437464523555\n",
      "RMSE of the model : 3.3172491352131352\n",
      "RMSE of the model : 1.2047524089589425\n",
      "RMSE of the model : 3.309601843238668\n",
      "RMSE of the model : 3.294680502402268\n",
      "RMSE of the model : 3.325212180803901\n",
      "RMSE of the model : 3.278586439563819\n",
      "RMSE of the model : 3.2293840760601826\n",
      "RMSE of the model : 3.2480533550881514\n",
      "RMSE of the model : 3.2994152842704945\n",
      "RMSE of the model : 3.3049991966918815\n",
      "RMSE of the model : 3.2884465349239473\n",
      "RMSE of the model : 3.316376398092323\n",
      "RMSE of the model : 3.2782645199844915\n",
      "RMSE of the model : 3.2847598499987836\n",
      "RMSE of the model : 3.261534976351709\n",
      "RMSE of the model : 3.26647059447517\n",
      "RMSE of the model : 3.2752553888957374\n",
      "RMSE of the model : 3.3022408875769873\n",
      "RMSE of the model : 3.532293428074092\n",
      "RMSE of the model : 3.2764957699918797\n",
      "RMSE of the model : 3.3077539537765865\n",
      "RMSE of the model : 3.2940927739762755\n",
      "RMSE of the model : 3.270121583551806\n",
      "RMSE of the model : 0.7772481073746641\n",
      "RMSE of the model : 3.2252334054579297\n",
      "RMSE of the model : 3.2595149451871763\n",
      "Optimal Order of the model : 8 6\n",
      "Optimal Error of the model : 0.7772481073746641\n"
     ]
    }
   ],
   "source": [
    "X_train = data[:600]\n",
    "X_test = data[600:]\n",
    "opt_a = 0\n",
    "opt_b = 0\n",
    "error = 99999\n",
    "opt_y = []\n",
    "for i in [1,2,3,4,5,6,7,8]:\n",
    "    for j in [1,2,3,4,5,6,7,8]:\n",
    "        try:\n",
    "            model = ARMA(X_train, order=(i, j))\n",
    "            model_fit = model.fit(disp=False)\n",
    "            yhat = model_fit.predict(len(X_train), len(data)-1)\n",
    "            print(\"RMSE of the model :\",math.sqrt(mse(X_test,yhat)))\n",
    "            if error>math.sqrt(mse(X_test,yhat)):\n",
    "                opt_a = i\n",
    "                opt_b = j\n",
    "                error = math.sqrt(mse(X_test,yhat))\n",
    "                opt_y = yhat\n",
    "        except:\n",
    "            continue\n",
    "print(\"Optimal Order of the model :\",opt_a,opt_b)\n",
    "print(\"Optimal Error of the model :\",error)"
   ]
  },
  {
   "cell_type": "code",
   "execution_count": 155,
   "metadata": {},
   "outputs": [
    {
     "data": {
      "text/plain": [
       "(386, 386)"
      ]
     },
     "execution_count": 155,
     "metadata": {},
     "output_type": "execute_result"
    }
   ],
   "source": [
    "len(opt_y),len(X_test)"
   ]
  },
  {
   "cell_type": "code",
   "execution_count": 156,
   "metadata": {},
   "outputs": [
    {
     "data": {
      "text/plain": [
       "<matplotlib.legend.Legend at 0x229eb197828>"
      ]
     },
     "execution_count": 156,
     "metadata": {},
     "output_type": "execute_result"
    },
    {
     "data": {
      "image/png": "[encoded data removed]",
      "text/plain": [
       "<Figure size 432x288 with 1 Axes>"
      ]
     },
     "metadata": {
      "needs_background": "light"
     },
     "output_type": "display_data"
    }
   ],
   "source": [
    "plt.plot(opt_y)\n",
    "plt.plot(X_test)\n",
    "plt.title(\"Predicted Values using Autoregressive Time Series Model\")\n",
    "plt.legend([\"Preidcted Value\",\"Actual Value\"])"
   ]
  },
  {
   "cell_type": "markdown",
   "metadata": {},
   "source": [
    "1. From the above result we can see that our model is able to learn the pattern in the data.\n",
    "\n",
    "## Prediction one time ahead :"
   ]
  },
  {
   "cell_type": "code",
   "execution_count": null,
   "metadata": {},
   "outputs": [],
   "source": [
    "# breaking the data into train and test\n",
    "import tqdm\n",
    "yhat1 = []\n",
    "d = range(600,len(data))\n",
    "for count in d:\n",
    "    if count%50==0:\n",
    "        print(count,\"done\")\n",
    "    try:\n",
    "        X_train = data[count-600:count]\n",
    "        X_test = data[count:]\n",
    "        model = ARMA(X_train, order=(8,6))\n",
    "        model_fit = model.fit(disp=False)\n",
    "        #yhat = model_fit.predict(len(X_train), len(data)-1)\n",
    "       # print(\"RMSE of the model :\",math.sqrt(mse(X_test,yhat)))\n",
    "        yhat1.append(model_fit.predict(count,count)[0])\n",
    "    except:\n",
    "        yhat1.append(X_train[-1])"
   ]
  },
  {
   "cell_type": "code",
   "execution_count": 184,
   "metadata": {},
   "outputs": [
    {
     "data": {
      "text/plain": [
       "(386, 386)"
      ]
     },
     "execution_count": 184,
     "metadata": {},
     "output_type": "execute_result"
    }
   ],
   "source": [
    "len(yhat1),len(data[600:])"
   ]
  },
  {
   "cell_type": "code",
   "execution_count": 198,
   "metadata": {},
   "outputs": [
    {
     "data": {
      "text/plain": [
       "[10.804036882961297,\n",
       " 9.772915113185745,\n",
       " 9.076819228157747,\n",
       " 8.493261260129191,\n",
       " 7.86496029000507,\n",
       " 6.792137915613172,\n",
       " 6.2016631675112395,\n",
       " 4.968653259051648,\n",
       " 4.170310916320488,\n",
       " 2.949014023669101,\n",
       " 1.9948231490968558,\n",
       " 1.0340324600235244,\n",
       " 0.31205584633353206,\n",
       " 0.5379999999999999,\n",
       " 1.1676619250019633,\n",
       " 2.6752793912705264,\n",
       " 3.916520576464243,\n",
       " 5.594149552994211,\n",
       " 7.010517745780305,\n",
       " 7.619653770119458,\n",
       " 8.739484474761833,\n",
       " 9.43714308788583,\n",
       " 10.093468862345823,\n",
       " 10.52002698658505,\n",
       " 11.132385426994693,\n",
       " 11.437616843624301,\n",
       " 11.553300324230637,\n",
       " 11.7909215530909,\n",
       " 11.570148264443446,\n",
       " 11.882612073197908,\n",
       " 11.554294046636233,\n",
       " 11.184736107631863,\n",
       " 10.834450059844501,\n",
       " 10.490426255021347,\n",
       " 9.881461698385573,\n",
       " 9.406995199653329,\n",
       " 9.197448857319428,\n",
       " 8.348796784719456,\n",
       " 7.442675782217913,\n",
       " 6.943640846460217,\n",
       " 6.157223019201144,\n",
       " 5.334689741621361,\n",
       " 4.1355946693445,\n",
       " 3.106916971064392,\n",
       " 2.356,\n",
       " 1.295,\n",
       " 0.616,\n",
       " 0.56,\n",
       " 1.2,\n",
       " 2.202,\n",
       " 3.96201574017809,\n",
       " 5.547605154665965,\n",
       " 6.751914509451041,\n",
       " 7.597131691595867,\n",
       " 8.756995267554588,\n",
       " 9.523817810867007,\n",
       " 10.35149812948232,\n",
       " 10.885607236726324,\n",
       " 11.413974447735825,\n",
       " 11.432,\n",
       " 11.665999999999999,\n",
       " 11.726241433050596,\n",
       " 11.828,\n",
       " 11.844000000000001,\n",
       " 11.823,\n",
       " 11.852,\n",
       " 11.550491583667196,\n",
       " 10.948045653973896,\n",
       " 11.054,\n",
       " 10.174282528363484,\n",
       " 10.489,\n",
       " 9.663,\n",
       " 9.045,\n",
       " 8.288,\n",
       " 7.417999999999999,\n",
       " 6.348,\n",
       " 5.35,\n",
       " 4.024,\n",
       " 2.6039999999999996,\n",
       " 1.3319999999999999,\n",
       " 0.621,\n",
       " 0.541,\n",
       " 1.321,\n",
       " 2.4459999999999997,\n",
       " 3.628,\n",
       " 4.423,\n",
       " 6.047000000000001,\n",
       " 7.084,\n",
       " 7.971,\n",
       " 8.796,\n",
       " 9.5,\n",
       " 10.111,\n",
       " 10.665999999999999,\n",
       " 11.011,\n",
       " 11.495,\n",
       " 11.690999999999999,\n",
       " 11.800999999999998,\n",
       " 11.815999999999999,\n",
       " 11.849,\n",
       " 11.847000000000001,\n",
       " 11.622,\n",
       " 11.304,\n",
       " 11.367,\n",
       " 10.706,\n",
       " 10.443,\n",
       " 9.904,\n",
       " 8.714,\n",
       " 8.003,\n",
       " 7.146,\n",
       " 6.1979999999999995,\n",
       " 5.218999999999999,\n",
       " 3.877,\n",
       " 2.5180000000000002,\n",
       " 1.3259999999999998,\n",
       " 0.594,\n",
       " 0.621,\n",
       " 1.226,\n",
       " 2.16,\n",
       " 3.302,\n",
       " 4.438,\n",
       " 5.6370000000000005,\n",
       " 6.638,\n",
       " 7.626,\n",
       " 8.448,\n",
       " 9.349,\n",
       " 10.124,\n",
       " 10.63,\n",
       " 11.08,\n",
       " 11.385,\n",
       " 11.571,\n",
       " 11.716,\n",
       " 11.675,\n",
       " 11.817,\n",
       " 11.78,\n",
       " 11.389000000000001,\n",
       " 11.138,\n",
       " 11.011,\n",
       " 10.436,\n",
       " 9.766,\n",
       " 9.142000000000001,\n",
       " 8.03,\n",
       " 7.808,\n",
       " 6.886,\n",
       " 5.877000000000001,\n",
       " 4.751,\n",
       " 3.617,\n",
       " 2.3680000000000003,\n",
       " 1.3159999999999998,\n",
       " 0.6779999999999999,\n",
       " 0.637,\n",
       " 1.247,\n",
       " 2.256,\n",
       " 3.4739999999999998,\n",
       " 4.654,\n",
       " 5.837999999999999,\n",
       " 6.864,\n",
       " 7.7860000000000005,\n",
       " 8.68,\n",
       " 9.413,\n",
       " 10.023,\n",
       " 10.562000000000001,\n",
       " 11.102,\n",
       " 11.378,\n",
       " 11.677999999999999,\n",
       " 11.752,\n",
       " 11.812000000000001,\n",
       " 11.812000000000001,\n",
       " 11.739,\n",
       " 11.442,\n",
       " 11.125,\n",
       " 10.825,\n",
       " 10.437999999999999,\n",
       " 9.691,\n",
       " 9.0,\n",
       " 8.354,\n",
       " 7.52,\n",
       " 6.569,\n",
       " 5.682,\n",
       " 4.5760000000000005,\n",
       " 3.397,\n",
       " 2.242,\n",
       " 1.272,\n",
       " 0.665,\n",
       " 0.677,\n",
       " 1.3159999999999998,\n",
       " 2.4090000000000003,\n",
       " 3.611,\n",
       " 4.856,\n",
       " 6.002000000000001,\n",
       " 7.075,\n",
       " 7.98,\n",
       " 8.757,\n",
       " 9.517000000000001,\n",
       " 10.062000000000001,\n",
       " 10.568,\n",
       " 10.895,\n",
       " 11.232000000000001,\n",
       " 11.324000000000002,\n",
       " 11.667,\n",
       " 11.672,\n",
       " 11.761,\n",
       " 11.57,\n",
       " 11.465,\n",
       " 11.187999999999999,\n",
       " 10.78,\n",
       " 10.39,\n",
       " 9.884,\n",
       " 9.225,\n",
       " 8.451,\n",
       " 7.776,\n",
       " 6.757999999999999,\n",
       " 5.787999999999999,\n",
       " 4.728,\n",
       " 3.5580000000000003,\n",
       " 2.3,\n",
       " 1.308,\n",
       " 0.6779999999999999,\n",
       " 0.6920000000000001,\n",
       " 1.3940000000000001,\n",
       " 2.494,\n",
       " 3.62,\n",
       " 4.762,\n",
       " 5.877999999999999,\n",
       " 6.892,\n",
       " 7.805,\n",
       " 8.542,\n",
       " 9.407,\n",
       " 8.708,\n",
       " 10.477,\n",
       " 11.056,\n",
       " 11.612,\n",
       " 11.845999999999998,\n",
       " 11.087,\n",
       " 8.675134693349818,\n",
       " 7.7839876245804085,\n",
       " 7.851,\n",
       " 11.515995179696457,\n",
       " 10.073668623742213,\n",
       " 21.746943637509677,\n",
       " 10.556,\n",
       " 7.674411141293101,\n",
       " 9.042,\n",
       " 7.193470512570018,\n",
       " 7.879,\n",
       " 5.608600780254206,\n",
       " 4.639368819820815,\n",
       " 4.237671771284241,\n",
       " 2.7411113815137114,\n",
       " 2.248,\n",
       " 0.4897814116058522,\n",
       " 1.1959057043594625,\n",
       " 1.4252070610141683,\n",
       " 2.0402237480855954,\n",
       " 0.9157061680552672,\n",
       " 4.5219444128825055,\n",
       " 4.762,\n",
       " 11.619971824902539,\n",
       " 6.877999999999999,\n",
       " 6.8870000000000005,\n",
       " 10.062636297261214,\n",
       " 10.286632335427036,\n",
       " 10.529000000000002,\n",
       " 11.347149447924496,\n",
       " 11.118,\n",
       " 11.90883523853207,\n",
       " 11.618,\n",
       " 11.456526503354738,\n",
       " 11.98415417585144,\n",
       " 11.483713314786385,\n",
       " 11.649742562870404,\n",
       " 18.132574785424207,\n",
       " 11.126713968442582,\n",
       " 13.378274749019184,\n",
       " 9.795212552782914,\n",
       " 9.371218973543261,\n",
       " 8.302236496538905,\n",
       " 8.754,\n",
       " nan,\n",
       " 5.859148897795983,\n",
       " 4.866628622747712,\n",
       " 4.018751202576714,\n",
       " 3.4178419268651066,\n",
       " 2.416,\n",
       " 7.058462970563441,\n",
       " 0.5053926203568019,\n",
       " 0.826,\n",
       " 2.255596884837173,\n",
       " 2.6319999999999997,\n",
       " 3.426,\n",
       " 2.188,\n",
       " 5.704,\n",
       " 8.490456641671575,\n",
       " 43.250368817174945,\n",
       " 5.716,\n",
       " 24.078603776373,\n",
       " 10.272,\n",
       " 10.824000000000002,\n",
       " 11.24,\n",
       " 11.57834577055732,\n",
       " 11.6262833392724,\n",
       " 11.802,\n",
       " 11.333198667972278,\n",
       " 11.685344811995444,\n",
       " 10.828671318238303,\n",
       " 12.192799709061237,\n",
       " 10.38107458381974,\n",
       " 9.812517270274988,\n",
       " 10.36,\n",
       " 9.828,\n",
       " 9.221,\n",
       " 8.47,\n",
       " 7.6739999999999995,\n",
       " 6.735,\n",
       " 5.789,\n",
       " 4.52,\n",
       " 3.0380000000000003,\n",
       " 1.5859999999999999,\n",
       " 0.86,\n",
       " 0.551,\n",
       " 0.838,\n",
       " 1.3880000000000001,\n",
       " 2.5340000000000003,\n",
       " 3.488,\n",
       " 4.768,\n",
       " 5.86,\n",
       " 6.92,\n",
       " 7.6,\n",
       " 8.558,\n",
       " 9.158,\n",
       " 9.732000000000001,\n",
       " 10.222000000000001,\n",
       " 10.72,\n",
       " 10.93,\n",
       " 1.5227312965200808,\n",
       " 11.272,\n",
       " 11.26,\n",
       " 11.415999999999999,\n",
       " 11.309000000000001,\n",
       " 10.952,\n",
       " 10.658,\n",
       " 10.447000000000001,\n",
       " 9.997,\n",
       " 9.34,\n",
       " 8.832,\n",
       " 8.254,\n",
       " 7.462999999999999,\n",
       " 6.607,\n",
       " 5.712000000000001,\n",
       " 4.7219999999999995,\n",
       " 3.625,\n",
       " 2.379,\n",
       " 1.33,\n",
       " 0.706,\n",
       " 0.652,\n",
       " 1.3230000000000002,\n",
       " 2.388,\n",
       " 3.548,\n",
       " 4.7410000000000005,\n",
       " 5.806,\n",
       " 6.916,\n",
       " 7.872999999999999,\n",
       " 8.717,\n",
       " 9.46,\n",
       " 10.044,\n",
       " 10.433,\n",
       " 10.825999999999999,\n",
       " 11.058,\n",
       " 11.45,\n",
       " 11.536,\n",
       " 11.585,\n",
       " 11.654000000000002,\n",
       " 11.42,\n",
       " 11.32,\n",
       " 11.117,\n",
       " 10.831,\n",
       " 10.504000000000001,\n",
       " 9.966000000000001,\n",
       " 9.31,\n",
       " 8.37,\n",
       " 8.347000000000001,\n",
       " 7.327999999999999,\n",
       " 6.152,\n",
       " 5.06,\n",
       " 3.8939999999999997,\n",
       " 2.625,\n",
       " 1.508]"
      ]
     },
     "execution_count": 198,
     "metadata": {},
     "output_type": "execute_result"
    }
   ],
   "source": [
    "yx"
   ]
  },
  {
   "cell_type": "code",
   "execution_count": 200,
   "metadata": {},
   "outputs": [],
   "source": [
    "yx = []\n",
    "for i in yhat1:\n",
    "    if math.isnan(float(i)):\n",
    "        continue\n",
    "    yx.append(i)"
   ]
  },
  {
   "cell_type": "code",
   "execution_count": 201,
   "metadata": {},
   "outputs": [
    {
     "data": {
      "text/plain": [
       "[10.804036882961297,\n",
       " 9.772915113185745,\n",
       " 9.076819228157747,\n",
       " 8.493261260129191,\n",
       " 7.86496029000507,\n",
       " 6.792137915613172,\n",
       " 6.2016631675112395,\n",
       " 4.968653259051648,\n",
       " 4.170310916320488,\n",
       " 2.949014023669101,\n",
       " 1.9948231490968558,\n",
       " 1.0340324600235244,\n",
       " 0.31205584633353206,\n",
       " 0.5379999999999999,\n",
       " 1.1676619250019633,\n",
       " 2.6752793912705264,\n",
       " 3.916520576464243,\n",
       " 5.594149552994211,\n",
       " 7.010517745780305,\n",
       " 7.619653770119458,\n",
       " 8.739484474761833,\n",
       " 9.43714308788583,\n",
       " 10.093468862345823,\n",
       " 10.52002698658505,\n",
       " 11.132385426994693,\n",
       " 11.437616843624301,\n",
       " 11.553300324230637,\n",
       " 11.7909215530909,\n",
       " 11.570148264443446,\n",
       " 11.882612073197908,\n",
       " 11.554294046636233,\n",
       " 11.184736107631863,\n",
       " 10.834450059844501,\n",
       " 10.490426255021347,\n",
       " 9.881461698385573,\n",
       " 9.406995199653329,\n",
       " 9.197448857319428,\n",
       " 8.348796784719456,\n",
       " 7.442675782217913,\n",
       " 6.943640846460217,\n",
       " 6.157223019201144,\n",
       " 5.334689741621361,\n",
       " 4.1355946693445,\n",
       " 3.106916971064392,\n",
       " 2.356,\n",
       " 1.295,\n",
       " 0.616,\n",
       " 0.56,\n",
       " 1.2,\n",
       " 2.202,\n",
       " 3.96201574017809,\n",
       " 5.547605154665965,\n",
       " 6.751914509451041,\n",
       " 7.597131691595867,\n",
       " 8.756995267554588,\n",
       " 9.523817810867007,\n",
       " 10.35149812948232,\n",
       " 10.885607236726324,\n",
       " 11.413974447735825,\n",
       " 11.432,\n",
       " 11.665999999999999,\n",
       " 11.726241433050596,\n",
       " 11.828,\n",
       " 11.844000000000001,\n",
       " 11.823,\n",
       " 11.852,\n",
       " 11.550491583667196,\n",
       " 10.948045653973896,\n",
       " 11.054,\n",
       " 10.174282528363484,\n",
       " 10.489,\n",
       " 9.663,\n",
       " 9.045,\n",
       " 8.288,\n",
       " 7.417999999999999,\n",
       " 6.348,\n",
       " 5.35,\n",
       " 4.024,\n",
       " 2.6039999999999996,\n",
       " 1.3319999999999999,\n",
       " 0.621,\n",
       " 0.541,\n",
       " 1.321,\n",
       " 2.4459999999999997,\n",
       " 3.628,\n",
       " 4.423,\n",
       " 6.047000000000001,\n",
       " 7.084,\n",
       " 7.971,\n",
       " 8.796,\n",
       " 9.5,\n",
       " 10.111,\n",
       " 10.665999999999999,\n",
       " 11.011,\n",
       " 11.495,\n",
       " 11.690999999999999,\n",
       " 11.800999999999998,\n",
       " 11.815999999999999,\n",
       " 11.849,\n",
       " 11.847000000000001,\n",
       " 11.622,\n",
       " 11.304,\n",
       " 11.367,\n",
       " 10.706,\n",
       " 10.443,\n",
       " 9.904,\n",
       " 8.714,\n",
       " 8.003,\n",
       " 7.146,\n",
       " 6.1979999999999995,\n",
       " 5.218999999999999,\n",
       " 3.877,\n",
       " 2.5180000000000002,\n",
       " 1.3259999999999998,\n",
       " 0.594,\n",
       " 0.621,\n",
       " 1.226,\n",
       " 2.16,\n",
       " 3.302,\n",
       " 4.438,\n",
       " 5.6370000000000005,\n",
       " 6.638,\n",
       " 7.626,\n",
       " 8.448,\n",
       " 9.349,\n",
       " 10.124,\n",
       " 10.63,\n",
       " 11.08,\n",
       " 11.385,\n",
       " 11.571,\n",
       " 11.716,\n",
       " 11.675,\n",
       " 11.817,\n",
       " 11.78,\n",
       " 11.389000000000001,\n",
       " 11.138,\n",
       " 11.011,\n",
       " 10.436,\n",
       " 9.766,\n",
       " 9.142000000000001,\n",
       " 8.03,\n",
       " 7.808,\n",
       " 6.886,\n",
       " 5.877000000000001,\n",
       " 4.751,\n",
       " 3.617,\n",
       " 2.3680000000000003,\n",
       " 1.3159999999999998,\n",
       " 0.6779999999999999,\n",
       " 0.637,\n",
       " 1.247,\n",
       " 2.256,\n",
       " 3.4739999999999998,\n",
       " 4.654,\n",
       " 5.837999999999999,\n",
       " 6.864,\n",
       " 7.7860000000000005,\n",
       " 8.68,\n",
       " 9.413,\n",
       " 10.023,\n",
       " 10.562000000000001,\n",
       " 11.102,\n",
       " 11.378,\n",
       " 11.677999999999999,\n",
       " 11.752,\n",
       " 11.812000000000001,\n",
       " 11.812000000000001,\n",
       " 11.739,\n",
       " 11.442,\n",
       " 11.125,\n",
       " 10.825,\n",
       " 10.437999999999999,\n",
       " 9.691,\n",
       " 9.0,\n",
       " 8.354,\n",
       " 7.52,\n",
       " 6.569,\n",
       " 5.682,\n",
       " 4.5760000000000005,\n",
       " 3.397,\n",
       " 2.242,\n",
       " 1.272,\n",
       " 0.665,\n",
       " 0.677,\n",
       " 1.3159999999999998,\n",
       " 2.4090000000000003,\n",
       " 3.611,\n",
       " 4.856,\n",
       " 6.002000000000001,\n",
       " 7.075,\n",
       " 7.98,\n",
       " 8.757,\n",
       " 9.517000000000001,\n",
       " 10.062000000000001,\n",
       " 10.568,\n",
       " 10.895,\n",
       " 11.232000000000001,\n",
       " 11.324000000000002,\n",
       " 11.667,\n",
       " 11.672,\n",
       " 11.761,\n",
       " 11.57,\n",
       " 11.465,\n",
       " 11.187999999999999,\n",
       " 10.78,\n",
       " 10.39,\n",
       " 9.884,\n",
       " 9.225,\n",
       " 8.451,\n",
       " 7.776,\n",
       " 6.757999999999999,\n",
       " 5.787999999999999,\n",
       " 4.728,\n",
       " 3.5580000000000003,\n",
       " 2.3,\n",
       " 1.308,\n",
       " 0.6779999999999999,\n",
       " 0.6920000000000001,\n",
       " 1.3940000000000001,\n",
       " 2.494,\n",
       " 3.62,\n",
       " 4.762,\n",
       " 5.877999999999999,\n",
       " 6.892,\n",
       " 7.805,\n",
       " 8.542,\n",
       " 9.407,\n",
       " 8.708,\n",
       " 10.477,\n",
       " 11.056,\n",
       " 11.612,\n",
       " 11.845999999999998,\n",
       " 11.087,\n",
       " 8.675134693349818,\n",
       " 7.7839876245804085,\n",
       " 7.851,\n",
       " 11.515995179696457,\n",
       " 10.073668623742213,\n",
       " 21.746943637509677,\n",
       " 10.556,\n",
       " 7.674411141293101,\n",
       " 9.042,\n",
       " 7.193470512570018,\n",
       " 7.879,\n",
       " 5.608600780254206,\n",
       " 4.639368819820815,\n",
       " 4.237671771284241,\n",
       " 2.7411113815137114,\n",
       " 2.248,\n",
       " 0.4897814116058522,\n",
       " 1.1959057043594625,\n",
       " 1.4252070610141683,\n",
       " 2.0402237480855954,\n",
       " 0.9157061680552672,\n",
       " 4.5219444128825055,\n",
       " 4.762,\n",
       " 11.619971824902539,\n",
       " 6.877999999999999,\n",
       " 6.8870000000000005,\n",
       " 10.062636297261214,\n",
       " 10.286632335427036,\n",
       " 10.529000000000002,\n",
       " 11.347149447924496,\n",
       " 11.118,\n",
       " 11.90883523853207,\n",
       " 11.618,\n",
       " 11.456526503354738,\n",
       " 11.98415417585144,\n",
       " 11.483713314786385,\n",
       " 11.649742562870404,\n",
       " 18.132574785424207,\n",
       " 11.126713968442582,\n",
       " 13.378274749019184,\n",
       " 9.795212552782914,\n",
       " 9.371218973543261,\n",
       " 8.302236496538905,\n",
       " 8.754,\n",
       " 5.859148897795983,\n",
       " 4.866628622747712,\n",
       " 4.018751202576714,\n",
       " 3.4178419268651066,\n",
       " 2.416,\n",
       " 7.058462970563441,\n",
       " 0.5053926203568019,\n",
       " 0.826,\n",
       " 2.255596884837173,\n",
       " 2.6319999999999997,\n",
       " 3.426,\n",
       " 2.188,\n",
       " 5.704,\n",
       " 8.490456641671575,\n",
       " 43.250368817174945,\n",
       " 5.716,\n",
       " 24.078603776373,\n",
       " 10.272,\n",
       " 10.824000000000002,\n",
       " 11.24,\n",
       " 11.57834577055732,\n",
       " 11.6262833392724,\n",
       " 11.802,\n",
       " 11.333198667972278,\n",
       " 11.685344811995444,\n",
       " 10.828671318238303,\n",
       " 12.192799709061237,\n",
       " 10.38107458381974,\n",
       " 9.812517270274988,\n",
       " 10.36,\n",
       " 9.828,\n",
       " 9.221,\n",
       " 8.47,\n",
       " 7.6739999999999995,\n",
       " 6.735,\n",
       " 5.789,\n",
       " 4.52,\n",
       " 3.0380000000000003,\n",
       " 1.5859999999999999,\n",
       " 0.86,\n",
       " 0.551,\n",
       " 0.838,\n",
       " 1.3880000000000001,\n",
       " 2.5340000000000003,\n",
       " 3.488,\n",
       " 4.768,\n",
       " 5.86,\n",
       " 6.92,\n",
       " 7.6,\n",
       " 8.558,\n",
       " 9.158,\n",
       " 9.732000000000001,\n",
       " 10.222000000000001,\n",
       " 10.72,\n",
       " 10.93,\n",
       " 1.5227312965200808,\n",
       " 11.272,\n",
       " 11.26,\n",
       " 11.415999999999999,\n",
       " 11.309000000000001,\n",
       " 10.952,\n",
       " 10.658,\n",
       " 10.447000000000001,\n",
       " 9.997,\n",
       " 9.34,\n",
       " 8.832,\n",
       " 8.254,\n",
       " 7.462999999999999,\n",
       " 6.607,\n",
       " 5.712000000000001,\n",
       " 4.7219999999999995,\n",
       " 3.625,\n",
       " 2.379,\n",
       " 1.33,\n",
       " 0.706,\n",
       " 0.652,\n",
       " 1.3230000000000002,\n",
       " 2.388,\n",
       " 3.548,\n",
       " 4.7410000000000005,\n",
       " 5.806,\n",
       " 6.916,\n",
       " 7.872999999999999,\n",
       " 8.717,\n",
       " 9.46,\n",
       " 10.044,\n",
       " 10.433,\n",
       " 10.825999999999999,\n",
       " 11.058,\n",
       " 11.45,\n",
       " 11.536,\n",
       " 11.585,\n",
       " 11.654000000000002,\n",
       " 11.42,\n",
       " 11.32,\n",
       " 11.117,\n",
       " 10.831,\n",
       " 10.504000000000001,\n",
       " 9.966000000000001,\n",
       " 9.31,\n",
       " 8.37,\n",
       " 8.347000000000001,\n",
       " 7.327999999999999,\n",
       " 6.152,\n",
       " 5.06,\n",
       " 3.8939999999999997,\n",
       " 2.625,\n",
       " 1.508]"
      ]
     },
     "execution_count": 201,
     "metadata": {},
     "output_type": "execute_result"
    }
   ],
   "source": [
    "yx"
   ]
  },
  {
   "cell_type": "code",
   "execution_count": 206,
   "metadata": {},
   "outputs": [
    {
     "name": "stdout",
     "output_type": "stream",
     "text": [
      "RMSE of MovingAvearge using one time ahead prediction:  0.5788020451175919\n"
     ]
    }
   ],
   "source": [
    "X_test = data[600:]\n",
    "print(\"RMSE of MovingAvearge using one time ahead prediction: \",math.sqrt(mse(X_test[:100],yx[:100])))"
   ]
  },
  {
   "cell_type": "code",
   "execution_count": 207,
   "metadata": {},
   "outputs": [
    {
     "data": {
      "text/plain": [
       "[<matplotlib.lines.Line2D at 0x229eb5c9c50>]"
      ]
     },
     "execution_count": 207,
     "metadata": {},
     "output_type": "execute_result"
    },
    {
     "data": {
      "image/png": "[encoded data removed]",
      "text/plain": [
       "<Figure size 432x288 with 1 Axes>"
      ]
     },
     "metadata": {
      "needs_background": "light"
     },
     "output_type": "display_data"
    }
   ],
   "source": [
    "plt.plot(X_test[:100])\n",
    "plt.plot(yx[:100])"
   ]
  },
  {
   "cell_type": "markdown",
   "metadata": {},
   "source": [
    "## ARIMA Model :\n",
    "\n",
    "(p,d,q)-> (AR,Integration, MA)"
   ]
  },
  {
   "cell_type": "code",
   "execution_count": 224,
   "metadata": {},
   "outputs": [
    {
     "name": "stdout",
     "output_type": "stream",
     "text": [
      "RMSE of the model : 8.162571237226967\n",
      "RMSE of the model : 7.8582159838923165\n",
      "RMSE of the model : 7.7294454838174484\n",
      "RMSE of the model : 7.817595079458586\n",
      "RMSE of the model : 3.966617810539544\n",
      "RMSE of the model : 3.957452578187133\n",
      "RMSE of the model : 109.79690976781683\n",
      "RMSE of the model : 101.84063272103491\n",
      "RMSE of the model : 117.95224552783006\n",
      "RMSE of the model : 137.3318555671455\n",
      "RMSE of the model : 4.215762805445408\n",
      "RMSE of the model : 4.2175329822286045\n",
      "RMSE of the model : 4.225627319201987\n",
      "RMSE of the model : 5.829054492431126\n",
      "RMSE of the model : 8.02729554933969\n",
      "RMSE of the model : 8.07157594303955\n",
      "RMSE of the model : 7.545357021534311\n",
      "RMSE of the model : 7.724426320866862\n",
      "RMSE of the model : 115.26740060482884\n",
      "RMSE of the model : 106.37282049817671\n",
      "RMSE of the model : 134.80290958825586\n",
      "RMSE of the model : 133.11110742341083\n",
      "RMSE of the model : 5.41321843879261\n",
      "RMSE of the model : 5.568843709218002\n",
      "RMSE of the model : 4.168896956520477\n",
      "RMSE of the model : 8.00731648524122\n",
      "RMSE of the model : 8.041365206537018\n",
      "RMSE of the model : 7.597537985006543\n",
      "RMSE of the model : 7.71418346039119\n",
      "RMSE of the model : 122.00442046505341\n",
      "RMSE of the model : 123.240718488374\n",
      "RMSE of the model : 124.64519069658898\n",
      "RMSE of the model : 125.94790612372363\n",
      "RMSE of the model : 121.20059502012539\n",
      "RMSE of the model : 129.84587683572752\n",
      "RMSE of the model : 7.961933349567343\n",
      "RMSE of the model : 7.872757030087215\n",
      "RMSE of the model : 7.779638725239181\n",
      "RMSE of the model : 7.721034192164009\n",
      "RMSE of the model : 125.89330162861745\n",
      "RMSE of the model : 125.61166498202525\n",
      "RMSE of the model : 125.19317637989165\n",
      "RMSE of the model : 126.14646738162465\n",
      "RMSE of the model : 4.206738584054266\n",
      "RMSE of the model : 126.86384036583549\n",
      "RMSE of the model : 3.6385551544583876\n",
      "RMSE of the model : 3.5929233003232968\n",
      "RMSE of the model : 3.4910862959825164\n",
      "RMSE of the model : 3.2875118123735825\n",
      "RMSE of the model : 125.80456002863906\n",
      "RMSE of the model : 204.32873437903746\n",
      "RMSE of the model : 124.07651180805183\n",
      "RMSE of the model : 5.413998772484526\n",
      "RMSE of the model : 6.038604341591361\n",
      "RMSE of the model : 3.9488708041672695\n",
      "RMSE of the model : 6.035179111940968\n",
      "RMSE of the model : 4.2640842520515525\n",
      "RMSE of the model : 3.6141857601685836\n",
      "RMSE of the model : 3.632148671082911\n",
      "RMSE of the model : 3.588359471509806\n",
      "RMSE of the model : 126.01922633823871\n",
      "RMSE of the model : 116.43709009294837\n",
      "RMSE of the model : 205.36850769421042\n",
      "RMSE of the model : 6.831127903366213\n",
      "RMSE of the model : 4.354303782492958\n",
      "RMSE of the model : 4.316927818323545\n",
      "RMSE of the model : 3.589524986452771\n",
      "RMSE of the model : 3.6172820931381002\n",
      "RMSE of the model : 3.6369196419654357\n",
      "RMSE of the model : 3.586165660561351\n",
      "RMSE of the model : 4.200388690328734\n",
      "RMSE of the model : 4.799121071777696\n",
      "RMSE of the model : 198.9820830167515\n",
      "RMSE of the model : 5.956508719225344\n",
      "RMSE of the model : 108.21955138250107\n",
      "RMSE of the model : 3.819512350048785\n",
      "RMSE of the model : 4.2406902953084\n",
      "RMSE of the model : 3.5625876439861868\n",
      "RMSE of the model : 3.5778559729879533\n",
      "RMSE of the model : 3.5992225566540617\n",
      "RMSE of the model : 3.348566007766779\n",
      "RMSE of the model : 3.310385866949144\n",
      "RMSE of the model : 4.22488002960717\n",
      "RMSE of the model : 4.136001127387953\n",
      "RMSE of the model : 3.96049546004578\n",
      "RMSE of the model : 4.182379245382838\n",
      "RMSE of the model : 3.603002346711737\n",
      "RMSE of the model : 572.0442678892945\n",
      "RMSE of the model : 7.01186812906558\n",
      "RMSE of the model : 3.3373252134688305\n",
      "RMSE of the model : 4.051904147887732\n",
      "RMSE of the model : 3.5350817106314945\n",
      "RMSE of the model : 3.3180171848943054\n",
      "RMSE of the model : 4.372057803722301\n",
      "RMSE of the model : 4.183089488051479\n",
      "RMSE of the model : 4.132297598050104\n",
      "RMSE of the model : 20325.66355214423\n",
      "RMSE of the model : 189.60236713694297\n",
      "RMSE of the model : 5.969151076874059\n",
      "RMSE of the model : 3.5691428517706045\n",
      "RMSE of the model : 3.676400191684149\n",
      "Order of the Arima model : 5 1 4\n",
      "RMSE of the model : 3.2875118123735825\n"
     ]
    }
   ],
   "source": [
    "from statsmodels.tsa.arima_model import ARIMA\n",
    "from random import random\n",
    "# breaking the data into train and test\n",
    "X_train = data[:600]\n",
    "X_test = data[600:]\n",
    "opt_a = 0\n",
    "opt_b = 0\n",
    "opt_c = 0\n",
    "error = 99999\n",
    "opt_y = []\n",
    "for i in range(1,10):\n",
    "    for j in range(1,10):\n",
    "        for k in range(1,10):\n",
    "            try:\n",
    "                model = ARIMA(X_train, order=(i, j, k))\n",
    "                model_fit = model.fit(disp=False)\n",
    "                # make prediction\n",
    "                yhat = model_fit.predict(len(X_train), len(data)-1, typ='levels')\n",
    "                print(\"RMSE of the model :\",math.sqrt(mse(X_test,yhat)))\n",
    "                if error > math.sqrt(mse(X_test,yhat)) and len(yhat)==386:\n",
    "                    opt_a = i\n",
    "                    opt_b = j\n",
    "                    opt_c = k\n",
    "                    error = math.sqrt(mse(X_test,yhat))\n",
    "            except:\n",
    "                continue\n",
    "print(\"Order of the Arima model :\", opt_a,opt_b,opt_c)\n",
    "print(\"RMSE of the model :\", error)"
   ]
  },
  {
   "cell_type": "code",
   "execution_count": 225,
   "metadata": {},
   "outputs": [
    {
     "name": "stdout",
     "output_type": "stream",
     "text": [
      "RMSE of the model on optimal parameters: 3.2875118123735825\n"
     ]
    }
   ],
   "source": [
    "from statsmodels.tsa.arima_model import ARIMA\n",
    "from random import random\n",
    "model = ARIMA(X_train, order=(5,1,4))\n",
    "model_fit = model.fit(disp=False)\n",
    "# make prediction\n",
    "yhat = model_fit.predict(len(X_train), len(data)-1, typ='levels')\n",
    "print(\"RMSE of the model on optimal parameters:\",math.sqrt(mse(X_test,yhat)))"
   ]
  },
  {
   "cell_type": "code",
   "execution_count": 226,
   "metadata": {},
   "outputs": [
    {
     "data": {
      "text/plain": [
       "<matplotlib.legend.Legend at 0x229e9ec9630>"
      ]
     },
     "execution_count": 226,
     "metadata": {},
     "output_type": "execute_result"
    },
    {
     "data": {
      "image/png": "[encoded data removed]",
      "text/plain": [
       "<Figure size 432x288 with 1 Axes>"
      ]
     },
     "metadata": {
      "needs_background": "light"
     },
     "output_type": "display_data"
    }
   ],
   "source": [
    "plt.plot(yhat)\n",
    "plt.plot(X_test)\n",
    "plt.title(\"Predicted Values using ARIMA Time Series Model\")\n",
    "plt.legend([\"Preidcted Value\",\"Actual Value\"])"
   ]
  },
  {
   "cell_type": "markdown",
   "metadata": {},
   "source": [
    "## Prediction one point ahead"
   ]
  },
  {
   "cell_type": "code",
   "execution_count": 251,
   "metadata": {},
   "outputs": [
    {
     "name": "stdout",
     "output_type": "stream",
     "text": [
      "Points Completed : 0\n",
      "Points Completed : 20\n",
      "Points Completed : 40\n",
      "Points Completed : 60\n",
      "Points Completed : 80\n",
      "Points Completed : 100\n",
      "Points Completed : 120\n",
      "Points Completed : 140\n",
      "Points Completed : 160\n",
      "Points Completed : 180\n",
      "Points Completed : 200\n",
      "Points Completed : 220\n",
      "Points Completed : 240\n",
      "Points Completed : 260\n",
      "Points Completed : 280\n",
      "Points Completed : 300\n",
      "Points Completed : 320\n",
      "Points Completed : 340\n",
      "Points Completed : 360\n",
      "Points Completed : 380\n"
     ]
    }
   ],
   "source": [
    "# breaking the data into train and test\n",
    "from statsmodels.tsa.arima_model import ARIMA\n",
    "from random import random\n",
    "yhat1 = []\n",
    "V = 0\n",
    "for count in range(600,len(data)):\n",
    "    if V%20==0:\n",
    "        print(\"Points Completed :\",V)\n",
    "    V+=1\n",
    "    X_train = data[:count]\n",
    "    X_test = data[count:]\n",
    "    try:\n",
    "        model = ARIMA(X_train, order=(5,1,4))\n",
    "        model_fit = model.fit(disp=False)\n",
    "        #yhat = model_fit.predict(len(X_train), len(data)-1)\n",
    "        yhat1.append(model_fit.predict(count,count+len(X_test))[0])\n",
    "       # print(\"RMSE of the model :\",math.sqrt(mse(X_test,yhat)))\n",
    "    except:\n",
    "        continue\n",
    "    yhat1.append(model_fit.predict(count,count)[0])   "
   ]
  },
  {
   "cell_type": "code",
   "execution_count": 239,
   "metadata": {},
   "outputs": [
    {
     "data": {
      "text/plain": [
       "386"
      ]
     },
     "execution_count": 239,
     "metadata": {},
     "output_type": "execute_result"
    }
   ],
   "source": [
    "len(yhat1)"
   ]
  },
  {
   "cell_type": "code",
   "execution_count": 240,
   "metadata": {},
   "outputs": [
    {
     "ename": "ValueError",
     "evalue": "Input contains NaN, infinity or a value too large for dtype('float64').",
     "output_type": "error",
     "traceback": [
      "\u001b[1;31m---------------------------------------------------------------------------\u001b[0m",
      "\u001b[1;31mValueError\u001b[0m                                Traceback (most recent call last)",
      "\u001b[1;32m<ipython-input-240-d7e5cc1b879b>\u001b[0m in \u001b[0;36m<module>\u001b[1;34m\u001b[0m\n\u001b[0;32m      1\u001b[0m \u001b[0mX_test\u001b[0m \u001b[1;33m=\u001b[0m \u001b[0mdata\u001b[0m\u001b[1;33m[\u001b[0m\u001b[1;36m600\u001b[0m\u001b[1;33m:\u001b[0m\u001b[1;33m]\u001b[0m\u001b[1;33m\u001b[0m\u001b[0m\n\u001b[1;32m----> 2\u001b[1;33m \u001b[0mprint\u001b[0m\u001b[1;33m(\u001b[0m\u001b[1;34m\"RMSE of MovingAvearge using one time ahead prediction: \"\u001b[0m\u001b[1;33m,\u001b[0m\u001b[0mmath\u001b[0m\u001b[1;33m.\u001b[0m\u001b[0msqrt\u001b[0m\u001b[1;33m(\u001b[0m\u001b[0mmse\u001b[0m\u001b[1;33m(\u001b[0m\u001b[0mX_test\u001b[0m\u001b[1;33m,\u001b[0m\u001b[0myhat1\u001b[0m\u001b[1;33m)\u001b[0m\u001b[1;33m)\u001b[0m\u001b[1;33m)\u001b[0m\u001b[1;33m\u001b[0m\u001b[0m\n\u001b[0m",
      "\u001b[1;32m~\\AppData\\Local\\Programs\\Python\\Python37\\lib\\site-packages\\sklearn\\metrics\\regression.py\u001b[0m in \u001b[0;36mmean_squared_error\u001b[1;34m(y_true, y_pred, sample_weight, multioutput)\u001b[0m\n\u001b[0;32m    237\u001b[0m     \"\"\"\n\u001b[0;32m    238\u001b[0m     y_type, y_true, y_pred, multioutput = _check_reg_targets(\n\u001b[1;32m--> 239\u001b[1;33m         y_true, y_pred, multioutput)\n\u001b[0m\u001b[0;32m    240\u001b[0m     \u001b[0mcheck_consistent_length\u001b[0m\u001b[1;33m(\u001b[0m\u001b[0my_true\u001b[0m\u001b[1;33m,\u001b[0m \u001b[0my_pred\u001b[0m\u001b[1;33m,\u001b[0m \u001b[0msample_weight\u001b[0m\u001b[1;33m)\u001b[0m\u001b[1;33m\u001b[0m\u001b[0m\n\u001b[0;32m    241\u001b[0m     output_errors = np.average((y_true - y_pred) ** 2, axis=0,\n",
      "\u001b[1;32m~\\AppData\\Local\\Programs\\Python\\Python37\\lib\\site-packages\\sklearn\\metrics\\regression.py\u001b[0m in \u001b[0;36m_check_reg_targets\u001b[1;34m(y_true, y_pred, multioutput)\u001b[0m\n\u001b[0;32m     75\u001b[0m     \u001b[0mcheck_consistent_length\u001b[0m\u001b[1;33m(\u001b[0m\u001b[0my_true\u001b[0m\u001b[1;33m,\u001b[0m \u001b[0my_pred\u001b[0m\u001b[1;33m)\u001b[0m\u001b[1;33m\u001b[0m\u001b[0m\n\u001b[0;32m     76\u001b[0m     \u001b[0my_true\u001b[0m \u001b[1;33m=\u001b[0m \u001b[0mcheck_array\u001b[0m\u001b[1;33m(\u001b[0m\u001b[0my_true\u001b[0m\u001b[1;33m,\u001b[0m \u001b[0mensure_2d\u001b[0m\u001b[1;33m=\u001b[0m\u001b[1;32mFalse\u001b[0m\u001b[1;33m)\u001b[0m\u001b[1;33m\u001b[0m\u001b[0m\n\u001b[1;32m---> 77\u001b[1;33m     \u001b[0my_pred\u001b[0m \u001b[1;33m=\u001b[0m \u001b[0mcheck_array\u001b[0m\u001b[1;33m(\u001b[0m\u001b[0my_pred\u001b[0m\u001b[1;33m,\u001b[0m \u001b[0mensure_2d\u001b[0m\u001b[1;33m=\u001b[0m\u001b[1;32mFalse\u001b[0m\u001b[1;33m)\u001b[0m\u001b[1;33m\u001b[0m\u001b[0m\n\u001b[0m\u001b[0;32m     78\u001b[0m \u001b[1;33m\u001b[0m\u001b[0m\n\u001b[0;32m     79\u001b[0m     \u001b[1;32mif\u001b[0m \u001b[0my_true\u001b[0m\u001b[1;33m.\u001b[0m\u001b[0mndim\u001b[0m \u001b[1;33m==\u001b[0m \u001b[1;36m1\u001b[0m\u001b[1;33m:\u001b[0m\u001b[1;33m\u001b[0m\u001b[0m\n",
      "\u001b[1;32m~\\AppData\\Local\\Programs\\Python\\Python37\\lib\\site-packages\\sklearn\\utils\\validation.py\u001b[0m in \u001b[0;36mcheck_array\u001b[1;34m(array, accept_sparse, accept_large_sparse, dtype, order, copy, force_all_finite, ensure_2d, allow_nd, ensure_min_samples, ensure_min_features, warn_on_dtype, estimator)\u001b[0m\n\u001b[0;32m    571\u001b[0m         \u001b[1;32mif\u001b[0m \u001b[0mforce_all_finite\u001b[0m\u001b[1;33m:\u001b[0m\u001b[1;33m\u001b[0m\u001b[0m\n\u001b[0;32m    572\u001b[0m             _assert_all_finite(array,\n\u001b[1;32m--> 573\u001b[1;33m                                allow_nan=force_all_finite == 'allow-nan')\n\u001b[0m\u001b[0;32m    574\u001b[0m \u001b[1;33m\u001b[0m\u001b[0m\n\u001b[0;32m    575\u001b[0m     \u001b[0mshape_repr\u001b[0m \u001b[1;33m=\u001b[0m \u001b[0m_shape_repr\u001b[0m\u001b[1;33m(\u001b[0m\u001b[0marray\u001b[0m\u001b[1;33m.\u001b[0m\u001b[0mshape\u001b[0m\u001b[1;33m)\u001b[0m\u001b[1;33m\u001b[0m\u001b[0m\n",
      "\u001b[1;32m~\\AppData\\Local\\Programs\\Python\\Python37\\lib\\site-packages\\sklearn\\utils\\validation.py\u001b[0m in \u001b[0;36m_assert_all_finite\u001b[1;34m(X, allow_nan)\u001b[0m\n\u001b[0;32m     54\u001b[0m                 not allow_nan and not np.isfinite(X).all()):\n\u001b[0;32m     55\u001b[0m             \u001b[0mtype_err\u001b[0m \u001b[1;33m=\u001b[0m \u001b[1;34m'infinity'\u001b[0m \u001b[1;32mif\u001b[0m \u001b[0mallow_nan\u001b[0m \u001b[1;32melse\u001b[0m \u001b[1;34m'NaN, infinity'\u001b[0m\u001b[1;33m\u001b[0m\u001b[0m\n\u001b[1;32m---> 56\u001b[1;33m             \u001b[1;32mraise\u001b[0m \u001b[0mValueError\u001b[0m\u001b[1;33m(\u001b[0m\u001b[0mmsg_err\u001b[0m\u001b[1;33m.\u001b[0m\u001b[0mformat\u001b[0m\u001b[1;33m(\u001b[0m\u001b[0mtype_err\u001b[0m\u001b[1;33m,\u001b[0m \u001b[0mX\u001b[0m\u001b[1;33m.\u001b[0m\u001b[0mdtype\u001b[0m\u001b[1;33m)\u001b[0m\u001b[1;33m)\u001b[0m\u001b[1;33m\u001b[0m\u001b[0m\n\u001b[0m\u001b[0;32m     57\u001b[0m \u001b[1;33m\u001b[0m\u001b[0m\n\u001b[0;32m     58\u001b[0m \u001b[1;33m\u001b[0m\u001b[0m\n",
      "\u001b[1;31mValueError\u001b[0m: Input contains NaN, infinity or a value too large for dtype('float64')."
     ]
    }
   ],
   "source": [
    "X_test = data[600:]\n",
    "print(\"RMSE of MovingAvearge using one time ahead prediction: \",math.sqrt(mse(X_test,yhat1)))"
   ]
  },
  {
   "cell_type": "code",
   "execution_count": 232,
   "metadata": {},
   "outputs": [
    {
     "data": {
      "text/plain": [
       "[<matplotlib.lines.Line2D at 0x229e9e91630>]"
      ]
     },
     "execution_count": 232,
     "metadata": {},
     "output_type": "execute_result"
    },
    {
     "data": {
      "image/png": "[encoded data removed]",
      "text/plain": [
       "<Figure size 432x288 with 1 Axes>"
      ]
     },
     "metadata": {
      "needs_background": "light"
     },
     "output_type": "display_data"
    }
   ],
   "source": [
    "plt.plot(X_test[:52])\n",
    "plt.plot(yhat1)"
   ]
  },
  {
   "cell_type": "markdown",
   "metadata": {},
   "source": [
    "### SARIMA MODEL\n",
    "1. Seasonal Autoregressive Integrated Moving Average, SARIMA or Seasonal ARIMA, is an extension of ARIMA that explicitly supports univariate time series data with a seasonal component.\n",
    "2. It adds three new hyperparameters to specify the autoregression (AR), differencing (I) and moving average (MA) for the seasonal component of the series, as well as an additional parameter for the period of the seasonality.\n",
    "\n",
    "3. There are four seasonal elements that are not part of ARIMA that must be configured; they are:\n",
    "\n",
    "1. P: Seasonal autoregressive order.\n",
    "2. D: Seasonal difference order.\n",
    "3. Q: Seasonal moving average order.\n",
    "4. m: The number of time steps for a single seasonal period."
   ]
  },
  {
   "cell_type": "markdown",
   "metadata": {},
   "source": [
    "#### What’s Wrong with ARIMA\n",
    "1. Autoregressive Integrated Moving Average, or ARIMA, is a forecasting method for univariate time series data.\n",
    "2. As its name suggests, it supports both an autoregressive and moving average elements. The integrated element refers to differencing allowing the method to support time series data with a trend.\n",
    "3. A problem with ARIMA is that it does not support seasonal data. That is a time series with a repeating cycle.\n",
    "4. ARIMA expects data that is either not seasonal or has the seasonal component removed, e.g. seasonally adjusted via methods such as seasonal differencing."
   ]
  },
  {
   "cell_type": "code",
   "execution_count": 241,
   "metadata": {},
   "outputs": [
    {
     "name": "stdout",
     "output_type": "stream",
     "text": [
      "RMSE of the model :  3.1681833797506678\n"
     ]
    }
   ],
   "source": [
    "from statsmodels.tsa.statespace.sarimax import SARIMAX\n",
    "from random import random\n",
    "X_train = data[:600]\n",
    "X_test = data[600:]\n",
    "model = SARIMAX(X_train, order=(7, 0, 6), seasonal_order=(1, 1, 1,1))\n",
    "model_fit = model.fit(disp=False)\n",
    "# make prediction\n",
    "yhat = model_fit.predict(len(X_train), len(data)-1)\n",
    "print(\"RMSE of the model : \",math.sqrt(mse(X_test,yhat)))"
   ]
  },
  {
   "cell_type": "code",
   "execution_count": 242,
   "metadata": {},
   "outputs": [
    {
     "data": {
      "text/plain": [
       "<matplotlib.legend.Legend at 0x229ec909860>"
      ]
     },
     "execution_count": 242,
     "metadata": {},
     "output_type": "execute_result"
    },
    {
     "data": {
      "image/png": "[encoded data removed]",
      "text/plain": [
       "<Figure size 432x288 with 1 Axes>"
      ]
     },
     "metadata": {
      "needs_background": "light"
     },
     "output_type": "display_data"
    }
   ],
   "source": [
    "plt.plot(yhat)\n",
    "plt.plot(X_test)\n",
    "plt.title(\"Predicted Values using Sarima Time Series Model\")\n",
    "plt.legend([\"Preidcted Value\",\"Actual Value\"])"
   ]
  },
  {
   "cell_type": "markdown",
   "metadata": {},
   "source": [
    "## prediction one time ahead "
   ]
  },
  {
   "cell_type": "code",
   "execution_count": 243,
   "metadata": {},
   "outputs": [],
   "source": [
    "# breaking the data into train and test\n",
    "from statsmodels.tsa.statespace.sarimax import SARIMAX\n",
    "from random import random\n",
    "yhat1 = []\n",
    "for count in range(600,len(data)):\n",
    "    X_train = data[:count]\n",
    "    X_test = data[count:]\n",
    "    try:\n",
    "        model = SARIMAX(X_train, order=(7, 0, 6), seasonal_order=(1, 1, 1,1))\n",
    "        model_fit = model.fit(disp=False)\n",
    "        yhat = model_fit.predict(len(X_train), len(data)-1)\n",
    "       # print(\"RMSE of the model :\",math.sqrt(mse(X_test,yhat)))\n",
    "    except:\n",
    "        continue\n",
    "    yhat1.append(model_fit.predict(count,count)[0])   "
   ]
  },
  {
   "cell_type": "code",
   "execution_count": 245,
   "metadata": {},
   "outputs": [
    {
     "name": "stdout",
     "output_type": "stream",
     "text": [
      "RMSE of MovingAvearge using one time ahead prediction:  2.586437560322168\n"
     ]
    }
   ],
   "source": [
    "X_test = data[600:]\n",
    "print(\"RMSE of MovingAvearge using one time ahead prediction: \",math.sqrt(mse(X_test[:380],yhat1)))"
   ]
  },
  {
   "cell_type": "code",
   "execution_count": 248,
   "metadata": {},
   "outputs": [
    {
     "name": "stdout",
     "output_type": "stream",
     "text": [
      "RMSE of MovingAvearge using one time ahead prediction:  0.39898865715657233\n"
     ]
    }
   ],
   "source": [
    "X_test = data[600:]\n",
    "print(\"RMSE of MovingAvearge using one time ahead prediction: \",math.sqrt(mse(X_test[:200],yhat1[:200])))"
   ]
  },
  {
   "cell_type": "code",
   "execution_count": 246,
   "metadata": {},
   "outputs": [
    {
     "data": {
      "text/plain": [
       "[<matplotlib.lines.Line2D at 0x229ec9a91d0>]"
      ]
     },
     "execution_count": 246,
     "metadata": {},
     "output_type": "execute_result"
    },
    {
     "data": {
      "image/png": "[encoded data removed]",
      "text/plain": [
       "<Figure size 432x288 with 1 Axes>"
      ]
     },
     "metadata": {
      "needs_background": "light"
     },
     "output_type": "display_data"
    }
   ],
   "source": [
    "plt.plot(X_test)\n",
    "plt.plot(yhat1[:380])"
   ]
  },
  {
   "cell_type": "code",
   "execution_count": 249,
   "metadata": {},
   "outputs": [
    {
     "data": {
      "text/plain": [
       "[<matplotlib.lines.Line2D at 0x229ee985400>]"
      ]
     },
     "execution_count": 249,
     "metadata": {},
     "output_type": "execute_result"
    },
    {
     "data": {
      "image/png": "[encoded data removed]",
      "text/plain": [
       "<Figure size 432x288 with 1 Axes>"
      ]
     },
     "metadata": {
      "needs_background": "light"
     },
     "output_type": "display_data"
    }
   ],
   "source": [
    "plt.plot(X_test[:200])\n",
    "plt.plot(yhat1[:200])"
   ]
  },
  {
   "cell_type": "markdown",
   "metadata": {},
   "source": [
    "### Adding external feature such as temperature and humidity"
   ]
  }
 ],
 "metadata": {
  "kernelspec": {
   "display_name": "Python 3",
   "language": "python",
   "name": "python3"
  },
  "language_info": {
   "codemirror_mode": {
    "name": "ipython",
    "version": 3
   },
   "file_extension": ".py",
   "mimetype": "text/x-python",
   "name": "python",
   "nbconvert_exporter": "python",
   "pygments_lexer": "ipython3",
   "version": "3.7.0"
  }
 },
 "nbformat": 4,
 "nbformat_minor": 2
}
